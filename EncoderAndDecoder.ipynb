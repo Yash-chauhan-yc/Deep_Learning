{
  "nbformat": 4,
  "nbformat_minor": 0,
  "metadata": {
    "colab": {
      "name": "Untitled12.ipynb",
      "provenance": [],
      "authorship_tag": "ABX9TyPWEXsk0mS0mV8EcnHE972K",
      "include_colab_link": true
    },
    "kernelspec": {
      "name": "python3",
      "display_name": "Python 3"
    },
    "language_info": {
      "name": "python"
    },
    "accelerator": "GPU",
    "gpuClass": "standard"
  },
  "cells": [
    {
      "cell_type": "markdown",
      "metadata": {
        "id": "view-in-github",
        "colab_type": "text"
      },
      "source": [
        "<a href=\"https://colab.research.google.com/github/Yashchauhan23/Deep_Learning/blob/main/EncoderAndDecoder.ipynb\" target=\"_parent\"><img src=\"https://colab.research.google.com/assets/colab-badge.svg\" alt=\"Open In Colab\"/></a>"
      ]
    },
    {
      "cell_type": "code",
      "execution_count": 41,
      "metadata": {
        "id": "lrIO9-4pBejO"
      },
      "outputs": [],
      "source": [
        "from tensorflow.keras.models import Model\n",
        "from tensorflow.keras.layers import Input, LSTM, Dense\n",
        "import numpy as np\n",
        "\n",
        "batch_size = 64\n",
        "epochs = 100\n",
        "latent_dim = 256\n",
        "num_samples = 10000\n",
        "data_path = '/content/fra.txt'"
      ]
    },
    {
      "cell_type": "markdown",
      "source": [
        "**Vectorize the data**"
      ],
      "metadata": {
        "id": "EgUPmZhfGfco"
      }
    },
    {
      "cell_type": "code",
      "source": [
        "input_texts = []\n",
        "target_texts = []\n",
        "input_characters = set()\n",
        "target_characters = set()\n",
        "with open(data_path, 'r', encoding='utf-8') as f:\n",
        "     lines = f.read().split('\\n')\n",
        "for line in lines[: min(num_samples, len(lines) -1)]:\n",
        "    input_text, target_text, _ = line.split('\\t')\n",
        "    target_text = '\\t' +target_text + '\\n'\n",
        "    input_texts.append(input_text)\n",
        "    target_texts.append(target_text)\n",
        "    for char in input_text:\n",
        "        if char not in input_characters:\n",
        "             input_characters.add(char)\n",
        "    for char in target_text:\n",
        "        if char not in target_characters:\n",
        "             target_characters.add(char)\n",
        "    "
      ],
      "metadata": {
        "id": "ClWXE8M7GVpr"
      },
      "execution_count": 42,
      "outputs": []
    },
    {
      "cell_type": "code",
      "source": [
        "input_characters"
      ],
      "metadata": {
        "colab": {
          "base_uri": "https://localhost:8080/"
        },
        "id": "t0sKndzIIKt8",
        "outputId": "1c75450c-e7ff-4b4f-9231-45612d7c3930"
      },
      "execution_count": 43,
      "outputs": [
        {
          "output_type": "execute_result",
          "data": {
            "text/plain": [
              "{' ',\n",
              " '!',\n",
              " '\"',\n",
              " '$',\n",
              " '%',\n",
              " '&',\n",
              " \"'\",\n",
              " ',',\n",
              " '-',\n",
              " '.',\n",
              " '0',\n",
              " '1',\n",
              " '2',\n",
              " '3',\n",
              " '5',\n",
              " '7',\n",
              " '8',\n",
              " '9',\n",
              " ':',\n",
              " '?',\n",
              " 'A',\n",
              " 'B',\n",
              " 'C',\n",
              " 'D',\n",
              " 'E',\n",
              " 'F',\n",
              " 'G',\n",
              " 'H',\n",
              " 'I',\n",
              " 'J',\n",
              " 'K',\n",
              " 'L',\n",
              " 'M',\n",
              " 'N',\n",
              " 'O',\n",
              " 'P',\n",
              " 'Q',\n",
              " 'R',\n",
              " 'S',\n",
              " 'T',\n",
              " 'U',\n",
              " 'V',\n",
              " 'W',\n",
              " 'Y',\n",
              " 'a',\n",
              " 'b',\n",
              " 'c',\n",
              " 'd',\n",
              " 'e',\n",
              " 'f',\n",
              " 'g',\n",
              " 'h',\n",
              " 'i',\n",
              " 'j',\n",
              " 'k',\n",
              " 'l',\n",
              " 'm',\n",
              " 'n',\n",
              " 'o',\n",
              " 'p',\n",
              " 'q',\n",
              " 'r',\n",
              " 's',\n",
              " 't',\n",
              " 'u',\n",
              " 'v',\n",
              " 'w',\n",
              " 'x',\n",
              " 'y',\n",
              " 'z',\n",
              " 'é'}"
            ]
          },
          "metadata": {},
          "execution_count": 43
        }
      ]
    },
    {
      "cell_type": "code",
      "source": [
        "input_characters = sorted(list(input_characters))\n",
        "target_characters = sorted(list(target_characters))\n",
        "num_encoder_tokens = len(input_characters)\n",
        "num_decoder_tokens = len(target_characters)\n",
        "max_encoder_seq_length = max([len(txt) for txt in input_texts])\n",
        "max_decoder_seq_length = max([len(txt) for txt in target_texts])"
      ],
      "metadata": {
        "id": "5WVJ1KDlL76o"
      },
      "execution_count": 44,
      "outputs": []
    },
    {
      "cell_type": "code",
      "source": [
        "print('Number of samples: ',len(input_texts))\n",
        "print('Number of unique input tokens: ',num_encoder_tokens)\n",
        "print('Number of unique output tokens: ',num_decoder_tokens)\n",
        "print('Max Sequence length for inputs: ',max_encoder_seq_length)\n",
        "print('Max Sequence length for outputs: ',max_decoder_seq_length)"
      ],
      "metadata": {
        "colab": {
          "base_uri": "https://localhost:8080/"
        },
        "id": "rR-iQHKeL0xo",
        "outputId": "cf2b2559-aa66-4028-ed10-18a1def76644"
      },
      "execution_count": 45,
      "outputs": [
        {
          "output_type": "stream",
          "name": "stdout",
          "text": [
            "Number of samples:  10000\n",
            "Number of unique input tokens:  71\n",
            "Number of unique output tokens:  93\n",
            "Max Sequence length for inputs:  15\n",
            "Max Sequence length for outputs:  59\n"
          ]
        }
      ]
    },
    {
      "cell_type": "code",
      "source": [
        "input_token_index = dict(\n",
        "    [(char,i) for i, char in enumerate(input_characters)])\n",
        "target_token_index = dict(\n",
        "    [(char,i) for i, char in enumerate(target_characters)])"
      ],
      "metadata": {
        "id": "m_z5X8vwNi0_"
      },
      "execution_count": 46,
      "outputs": []
    },
    {
      "cell_type": "code",
      "source": [
        "input_token_index"
      ],
      "metadata": {
        "colab": {
          "base_uri": "https://localhost:8080/"
        },
        "id": "ggGT4cR4OEW1",
        "outputId": "cadf20e4-b6be-4ab5-dee1-4c306d5a7a41"
      },
      "execution_count": 47,
      "outputs": [
        {
          "output_type": "execute_result",
          "data": {
            "text/plain": [
              "{' ': 0,\n",
              " '!': 1,\n",
              " '\"': 2,\n",
              " '$': 3,\n",
              " '%': 4,\n",
              " '&': 5,\n",
              " \"'\": 6,\n",
              " ',': 7,\n",
              " '-': 8,\n",
              " '.': 9,\n",
              " '0': 10,\n",
              " '1': 11,\n",
              " '2': 12,\n",
              " '3': 13,\n",
              " '5': 14,\n",
              " '7': 15,\n",
              " '8': 16,\n",
              " '9': 17,\n",
              " ':': 18,\n",
              " '?': 19,\n",
              " 'A': 20,\n",
              " 'B': 21,\n",
              " 'C': 22,\n",
              " 'D': 23,\n",
              " 'E': 24,\n",
              " 'F': 25,\n",
              " 'G': 26,\n",
              " 'H': 27,\n",
              " 'I': 28,\n",
              " 'J': 29,\n",
              " 'K': 30,\n",
              " 'L': 31,\n",
              " 'M': 32,\n",
              " 'N': 33,\n",
              " 'O': 34,\n",
              " 'P': 35,\n",
              " 'Q': 36,\n",
              " 'R': 37,\n",
              " 'S': 38,\n",
              " 'T': 39,\n",
              " 'U': 40,\n",
              " 'V': 41,\n",
              " 'W': 42,\n",
              " 'Y': 43,\n",
              " 'a': 44,\n",
              " 'b': 45,\n",
              " 'c': 46,\n",
              " 'd': 47,\n",
              " 'e': 48,\n",
              " 'f': 49,\n",
              " 'g': 50,\n",
              " 'h': 51,\n",
              " 'i': 52,\n",
              " 'j': 53,\n",
              " 'k': 54,\n",
              " 'l': 55,\n",
              " 'm': 56,\n",
              " 'n': 57,\n",
              " 'o': 58,\n",
              " 'p': 59,\n",
              " 'q': 60,\n",
              " 'r': 61,\n",
              " 's': 62,\n",
              " 't': 63,\n",
              " 'u': 64,\n",
              " 'v': 65,\n",
              " 'w': 66,\n",
              " 'x': 67,\n",
              " 'y': 68,\n",
              " 'z': 69,\n",
              " 'é': 70}"
            ]
          },
          "metadata": {},
          "execution_count": 47
        }
      ]
    },
    {
      "cell_type": "code",
      "source": [
        "encoder_input_data = np.zeros(\n",
        "    (len(input_texts), max_encoder_seq_length, num_encoder_tokens),\n",
        "    dtype='float32')\n",
        "decoder_input_data = np.zeros(\n",
        "    (len(input_texts), max_decoder_seq_length, num_decoder_tokens),\n",
        "    dtype='float32')\n",
        "decoder_target_data = np.zeros(\n",
        "    (len(input_texts), max_decoder_seq_length, num_decoder_tokens),\n",
        "    dtype='float32')"
      ],
      "metadata": {
        "id": "sjDk17GrOGsO"
      },
      "execution_count": 48,
      "outputs": []
    },
    {
      "cell_type": "code",
      "source": [
        "\n",
        "for i, (input_text, target_text) in enumerate(zip(input_texts, target_texts)):\n",
        "            for t, char in enumerate(input_text):\n",
        "                encoder_input_data[i, t, input_token_index[char]] = 1.\n",
        "            encoder_input_data[i, t + 1:, input_token_index[' ']] = 1.\n",
        "            for t, char in enumerate(target_text):\n",
        "                # decoder_target_data is ahead of decoder_input_data by one timestep\n",
        "                decoder_input_data[i, t, target_token_index[char]] = 1.\n",
        "                if t > 0:\n",
        "                    # decoder_target_data will be ahead by one timestep\n",
        "                    # and will not include the start character.\n",
        "                    decoder_target_data[i, t - 1, target_token_index[char]] = 1.\n",
        "            decoder_input_data[i, t + 1:, target_token_index[' ']] = 1.\n",
        "            decoder_target_data[i, t:, target_token_index[' ']] = 1.\n",
        "    "
      ],
      "metadata": {
        "id": "HGK-AHzf4H_p"
      },
      "execution_count": 49,
      "outputs": []
    },
    {
      "cell_type": "code",
      "source": [
        "encoder_input_data[0].shape"
      ],
      "metadata": {
        "colab": {
          "base_uri": "https://localhost:8080/"
        },
        "id": "AmsqBsJj3r_e",
        "outputId": "a751039f-7ed4-46c2-ec73-e1e6d864a0b8"
      },
      "execution_count": 50,
      "outputs": [
        {
          "output_type": "execute_result",
          "data": {
            "text/plain": [
              "(15, 71)"
            ]
          },
          "metadata": {},
          "execution_count": 50
        }
      ]
    },
    {
      "cell_type": "code",
      "source": [
        "# Define an input sequence and process it.\n",
        "encoder_inputs = Input(shape=(None, num_encoder_tokens))\n",
        "encoder =  LSTM(latent_dim, return_state=True)\n",
        "encoder_outputs, state_h, state_c = encoder(encoder_inputs)\n",
        "# We discard `encoder_outputs` and only keep the states.\n",
        "encoder_states = [state_h, state_c]"
      ],
      "metadata": {
        "id": "-KoBGWmq4cmn"
      },
      "execution_count": 51,
      "outputs": []
    },
    {
      "cell_type": "code",
      "source": [
        "# Set up the decoder, using `encoder_states` as initial state.\n",
        "decoder_inputs = Input(shape=(None, num_decoder_tokens))\n",
        "# We set up our decoder to return full output sequences,\n",
        "# and to return internal states as well. We don't use the\n",
        "# return states in the training model, but we will use them in inference.\n",
        "decoder_lstm = LSTM(latent_dim, return_sequences=True, return_state=True)\n",
        "decoder_outputs, _, _ = decoder_lstm(decoder_inputs,\n",
        "                                               initial_state=encoder_states)\n",
        "decoder_dense = Dense(num_decoder_tokens, activation='softmax')\n",
        "decoder_outputs = decoder_dense(decoder_outputs)"
      ],
      "metadata": {
        "id": "tsRAe7VO4pg3"
      },
      "execution_count": 52,
      "outputs": []
    },
    {
      "cell_type": "code",
      "source": [
        "# Define the model that will turn\n",
        "# `encoder_input_data` & `decoder_input_data` into `decoder_target_data`\n",
        "model = Model([encoder_inputs, decoder_inputs], decoder_outputs)\n",
        "            \n",
        "# Run training\n",
        "model.compile(optimizer='rmsprop', loss='categorical_crossentropy',\n",
        "                                              metrics=['accuracy'])\n",
        "model.fit([encoder_input_data, decoder_input_data], decoder_target_data,\n",
        "          batch_size = batch_size,\n",
        "          epochs = epochs,\n",
        "          validation_split=0.2)"
      ],
      "metadata": {
        "colab": {
          "base_uri": "https://localhost:8080/"
        },
        "id": "Kw41qFvC48Xe",
        "outputId": "6f9c3506-efb9-4f81-a629-029b6e782202"
      },
      "execution_count": 53,
      "outputs": [
        {
          "output_type": "stream",
          "name": "stdout",
          "text": [
            "Epoch 1/100\n",
            "125/125 [==============================] - 5s 19ms/step - loss: 1.1549 - accuracy: 0.7357 - val_loss: 1.0364 - val_accuracy: 0.7129\n",
            "Epoch 2/100\n",
            "125/125 [==============================] - 2s 12ms/step - loss: 0.8292 - accuracy: 0.7770 - val_loss: 0.8373 - val_accuracy: 0.7665\n",
            "Epoch 3/100\n",
            "125/125 [==============================] - 1s 12ms/step - loss: 0.6648 - accuracy: 0.8154 - val_loss: 0.7097 - val_accuracy: 0.7925\n",
            "Epoch 4/100\n",
            "125/125 [==============================] - 2s 12ms/step - loss: 0.5743 - accuracy: 0.8333 - val_loss: 0.6408 - val_accuracy: 0.8122\n",
            "Epoch 5/100\n",
            "125/125 [==============================] - 2s 12ms/step - loss: 0.5257 - accuracy: 0.8464 - val_loss: 0.5863 - val_accuracy: 0.8303\n",
            "Epoch 6/100\n",
            "125/125 [==============================] - 2s 12ms/step - loss: 0.4898 - accuracy: 0.8563 - val_loss: 0.5636 - val_accuracy: 0.8361\n",
            "Epoch 7/100\n",
            "125/125 [==============================] - 2s 13ms/step - loss: 0.4616 - accuracy: 0.8632 - val_loss: 0.5340 - val_accuracy: 0.8428\n",
            "Epoch 8/100\n",
            "125/125 [==============================] - 2s 12ms/step - loss: 0.4383 - accuracy: 0.8699 - val_loss: 0.5218 - val_accuracy: 0.8465\n",
            "Epoch 9/100\n",
            "125/125 [==============================] - 2s 13ms/step - loss: 0.4180 - accuracy: 0.8754 - val_loss: 0.5026 - val_accuracy: 0.8519\n",
            "Epoch 10/100\n",
            "125/125 [==============================] - 2s 12ms/step - loss: 0.3996 - accuracy: 0.8804 - val_loss: 0.4900 - val_accuracy: 0.8557\n",
            "Epoch 11/100\n",
            "125/125 [==============================] - 2s 12ms/step - loss: 0.3837 - accuracy: 0.8849 - val_loss: 0.4826 - val_accuracy: 0.8581\n",
            "Epoch 12/100\n",
            "125/125 [==============================] - 2s 12ms/step - loss: 0.3676 - accuracy: 0.8894 - val_loss: 0.4738 - val_accuracy: 0.8606\n",
            "Epoch 13/100\n",
            "125/125 [==============================] - 2s 12ms/step - loss: 0.3538 - accuracy: 0.8937 - val_loss: 0.4608 - val_accuracy: 0.8636\n",
            "Epoch 14/100\n",
            "125/125 [==============================] - 2s 13ms/step - loss: 0.3400 - accuracy: 0.8974 - val_loss: 0.4635 - val_accuracy: 0.8638\n",
            "Epoch 15/100\n",
            "125/125 [==============================] - 2s 14ms/step - loss: 0.3275 - accuracy: 0.9014 - val_loss: 0.4500 - val_accuracy: 0.8684\n",
            "Epoch 16/100\n",
            "125/125 [==============================] - 1s 12ms/step - loss: 0.3151 - accuracy: 0.9051 - val_loss: 0.4484 - val_accuracy: 0.8685\n",
            "Epoch 17/100\n",
            "125/125 [==============================] - 2s 12ms/step - loss: 0.3038 - accuracy: 0.9083 - val_loss: 0.4455 - val_accuracy: 0.8700\n",
            "Epoch 18/100\n",
            "125/125 [==============================] - 2s 12ms/step - loss: 0.2932 - accuracy: 0.9114 - val_loss: 0.4438 - val_accuracy: 0.8716\n",
            "Epoch 19/100\n",
            "125/125 [==============================] - 2s 12ms/step - loss: 0.2826 - accuracy: 0.9146 - val_loss: 0.4416 - val_accuracy: 0.8731\n",
            "Epoch 20/100\n",
            "125/125 [==============================] - 2s 12ms/step - loss: 0.2730 - accuracy: 0.9173 - val_loss: 0.4437 - val_accuracy: 0.8735\n",
            "Epoch 21/100\n",
            "125/125 [==============================] - 2s 12ms/step - loss: 0.2637 - accuracy: 0.9199 - val_loss: 0.4432 - val_accuracy: 0.8728\n",
            "Epoch 22/100\n",
            "125/125 [==============================] - 2s 12ms/step - loss: 0.2545 - accuracy: 0.9229 - val_loss: 0.4470 - val_accuracy: 0.8733\n",
            "Epoch 23/100\n",
            "125/125 [==============================] - 2s 12ms/step - loss: 0.2462 - accuracy: 0.9255 - val_loss: 0.4466 - val_accuracy: 0.8748\n",
            "Epoch 24/100\n",
            "125/125 [==============================] - 2s 12ms/step - loss: 0.2382 - accuracy: 0.9275 - val_loss: 0.4478 - val_accuracy: 0.8743\n",
            "Epoch 25/100\n",
            "125/125 [==============================] - 2s 12ms/step - loss: 0.2303 - accuracy: 0.9301 - val_loss: 0.4493 - val_accuracy: 0.8747\n",
            "Epoch 26/100\n",
            "125/125 [==============================] - 2s 12ms/step - loss: 0.2227 - accuracy: 0.9323 - val_loss: 0.4531 - val_accuracy: 0.8748\n",
            "Epoch 27/100\n",
            "125/125 [==============================] - 2s 12ms/step - loss: 0.2156 - accuracy: 0.9343 - val_loss: 0.4541 - val_accuracy: 0.8748\n",
            "Epoch 28/100\n",
            "125/125 [==============================] - 2s 12ms/step - loss: 0.2089 - accuracy: 0.9362 - val_loss: 0.4546 - val_accuracy: 0.8765\n",
            "Epoch 29/100\n",
            "125/125 [==============================] - 2s 12ms/step - loss: 0.2026 - accuracy: 0.9380 - val_loss: 0.4587 - val_accuracy: 0.8765\n",
            "Epoch 30/100\n",
            "125/125 [==============================] - 2s 12ms/step - loss: 0.1961 - accuracy: 0.9403 - val_loss: 0.4593 - val_accuracy: 0.8768\n",
            "Epoch 31/100\n",
            "125/125 [==============================] - 2s 12ms/step - loss: 0.1899 - accuracy: 0.9423 - val_loss: 0.4714 - val_accuracy: 0.8753\n",
            "Epoch 32/100\n",
            "125/125 [==============================] - 1s 12ms/step - loss: 0.1846 - accuracy: 0.9438 - val_loss: 0.4702 - val_accuracy: 0.8763\n",
            "Epoch 33/100\n",
            "125/125 [==============================] - 1s 12ms/step - loss: 0.1790 - accuracy: 0.9453 - val_loss: 0.4703 - val_accuracy: 0.8768\n",
            "Epoch 34/100\n",
            "125/125 [==============================] - 1s 12ms/step - loss: 0.1738 - accuracy: 0.9468 - val_loss: 0.4797 - val_accuracy: 0.8774\n",
            "Epoch 35/100\n",
            "125/125 [==============================] - 1s 12ms/step - loss: 0.1686 - accuracy: 0.9484 - val_loss: 0.4820 - val_accuracy: 0.8763\n",
            "Epoch 36/100\n",
            "125/125 [==============================] - 1s 12ms/step - loss: 0.1637 - accuracy: 0.9497 - val_loss: 0.4847 - val_accuracy: 0.8767\n",
            "Epoch 37/100\n",
            "125/125 [==============================] - 1s 12ms/step - loss: 0.1587 - accuracy: 0.9513 - val_loss: 0.4908 - val_accuracy: 0.8767\n",
            "Epoch 38/100\n",
            "125/125 [==============================] - 1s 12ms/step - loss: 0.1547 - accuracy: 0.9525 - val_loss: 0.4917 - val_accuracy: 0.8771\n",
            "Epoch 39/100\n",
            "125/125 [==============================] - 2s 12ms/step - loss: 0.1501 - accuracy: 0.9538 - val_loss: 0.5042 - val_accuracy: 0.8760\n",
            "Epoch 40/100\n",
            "125/125 [==============================] - 1s 12ms/step - loss: 0.1462 - accuracy: 0.9550 - val_loss: 0.4987 - val_accuracy: 0.8774\n",
            "Epoch 41/100\n",
            "125/125 [==============================] - 2s 13ms/step - loss: 0.1422 - accuracy: 0.9561 - val_loss: 0.5122 - val_accuracy: 0.8759\n",
            "Epoch 42/100\n",
            "125/125 [==============================] - 2s 12ms/step - loss: 0.1383 - accuracy: 0.9573 - val_loss: 0.5163 - val_accuracy: 0.8759\n",
            "Epoch 43/100\n",
            "125/125 [==============================] - 2s 12ms/step - loss: 0.1347 - accuracy: 0.9583 - val_loss: 0.5204 - val_accuracy: 0.8764\n",
            "Epoch 44/100\n",
            "125/125 [==============================] - 2s 12ms/step - loss: 0.1311 - accuracy: 0.9593 - val_loss: 0.5202 - val_accuracy: 0.8773\n",
            "Epoch 45/100\n",
            "125/125 [==============================] - 2s 12ms/step - loss: 0.1277 - accuracy: 0.9604 - val_loss: 0.5288 - val_accuracy: 0.8764\n",
            "Epoch 46/100\n",
            "125/125 [==============================] - 1s 12ms/step - loss: 0.1244 - accuracy: 0.9615 - val_loss: 0.5323 - val_accuracy: 0.8767\n",
            "Epoch 47/100\n",
            "125/125 [==============================] - 2s 12ms/step - loss: 0.1216 - accuracy: 0.9621 - val_loss: 0.5354 - val_accuracy: 0.8769\n",
            "Epoch 48/100\n",
            "125/125 [==============================] - 2s 12ms/step - loss: 0.1182 - accuracy: 0.9629 - val_loss: 0.5421 - val_accuracy: 0.8758\n",
            "Epoch 49/100\n",
            "125/125 [==============================] - 2s 13ms/step - loss: 0.1156 - accuracy: 0.9639 - val_loss: 0.5472 - val_accuracy: 0.8749\n",
            "Epoch 50/100\n",
            "125/125 [==============================] - 2s 12ms/step - loss: 0.1125 - accuracy: 0.9645 - val_loss: 0.5544 - val_accuracy: 0.8742\n",
            "Epoch 51/100\n",
            "125/125 [==============================] - 2s 12ms/step - loss: 0.1101 - accuracy: 0.9654 - val_loss: 0.5586 - val_accuracy: 0.8749\n",
            "Epoch 52/100\n",
            "125/125 [==============================] - 2s 12ms/step - loss: 0.1073 - accuracy: 0.9664 - val_loss: 0.5616 - val_accuracy: 0.8756\n",
            "Epoch 53/100\n",
            "125/125 [==============================] - 2s 12ms/step - loss: 0.1047 - accuracy: 0.9669 - val_loss: 0.5638 - val_accuracy: 0.8752\n",
            "Epoch 54/100\n",
            "125/125 [==============================] - 2s 12ms/step - loss: 0.1027 - accuracy: 0.9675 - val_loss: 0.5745 - val_accuracy: 0.8754\n",
            "Epoch 55/100\n",
            "125/125 [==============================] - 1s 12ms/step - loss: 0.1001 - accuracy: 0.9685 - val_loss: 0.5782 - val_accuracy: 0.8742\n",
            "Epoch 56/100\n",
            "125/125 [==============================] - 2s 12ms/step - loss: 0.0981 - accuracy: 0.9687 - val_loss: 0.5813 - val_accuracy: 0.8746\n",
            "Epoch 57/100\n",
            "125/125 [==============================] - 1s 12ms/step - loss: 0.0957 - accuracy: 0.9696 - val_loss: 0.5869 - val_accuracy: 0.8750\n",
            "Epoch 58/100\n",
            "125/125 [==============================] - 2s 12ms/step - loss: 0.0937 - accuracy: 0.9701 - val_loss: 0.5904 - val_accuracy: 0.8742\n",
            "Epoch 59/100\n",
            "125/125 [==============================] - 2s 13ms/step - loss: 0.0918 - accuracy: 0.9709 - val_loss: 0.5959 - val_accuracy: 0.8747\n",
            "Epoch 60/100\n",
            "125/125 [==============================] - 2s 12ms/step - loss: 0.0899 - accuracy: 0.9711 - val_loss: 0.6002 - val_accuracy: 0.8738\n",
            "Epoch 61/100\n",
            "125/125 [==============================] - 2s 12ms/step - loss: 0.0877 - accuracy: 0.9718 - val_loss: 0.6057 - val_accuracy: 0.8741\n",
            "Epoch 62/100\n",
            "125/125 [==============================] - 2s 12ms/step - loss: 0.0863 - accuracy: 0.9723 - val_loss: 0.6086 - val_accuracy: 0.8741\n",
            "Epoch 63/100\n",
            "125/125 [==============================] - 2s 12ms/step - loss: 0.0843 - accuracy: 0.9728 - val_loss: 0.6101 - val_accuracy: 0.8745\n",
            "Epoch 64/100\n",
            "125/125 [==============================] - 2s 12ms/step - loss: 0.0823 - accuracy: 0.9734 - val_loss: 0.6192 - val_accuracy: 0.8745\n",
            "Epoch 65/100\n",
            "125/125 [==============================] - 2s 12ms/step - loss: 0.0809 - accuracy: 0.9738 - val_loss: 0.6208 - val_accuracy: 0.8744\n",
            "Epoch 66/100\n",
            "125/125 [==============================] - 2s 12ms/step - loss: 0.0792 - accuracy: 0.9742 - val_loss: 0.6263 - val_accuracy: 0.8746\n",
            "Epoch 67/100\n",
            "125/125 [==============================] - 2s 12ms/step - loss: 0.0779 - accuracy: 0.9747 - val_loss: 0.6311 - val_accuracy: 0.8737\n",
            "Epoch 68/100\n",
            "125/125 [==============================] - 2s 12ms/step - loss: 0.0760 - accuracy: 0.9753 - val_loss: 0.6355 - val_accuracy: 0.8735\n",
            "Epoch 69/100\n",
            "125/125 [==============================] - 2s 12ms/step - loss: 0.0745 - accuracy: 0.9757 - val_loss: 0.6460 - val_accuracy: 0.8736\n",
            "Epoch 70/100\n",
            "125/125 [==============================] - 2s 12ms/step - loss: 0.0731 - accuracy: 0.9761 - val_loss: 0.6492 - val_accuracy: 0.8742\n",
            "Epoch 71/100\n",
            "125/125 [==============================] - 2s 12ms/step - loss: 0.0718 - accuracy: 0.9764 - val_loss: 0.6515 - val_accuracy: 0.8738\n",
            "Epoch 72/100\n",
            "125/125 [==============================] - 2s 12ms/step - loss: 0.0705 - accuracy: 0.9768 - val_loss: 0.6569 - val_accuracy: 0.8744\n",
            "Epoch 73/100\n",
            "125/125 [==============================] - 2s 13ms/step - loss: 0.0691 - accuracy: 0.9772 - val_loss: 0.6615 - val_accuracy: 0.8737\n",
            "Epoch 74/100\n",
            "125/125 [==============================] - 2s 13ms/step - loss: 0.0677 - accuracy: 0.9774 - val_loss: 0.6669 - val_accuracy: 0.8731\n",
            "Epoch 75/100\n",
            "125/125 [==============================] - 2s 12ms/step - loss: 0.0668 - accuracy: 0.9777 - val_loss: 0.6710 - val_accuracy: 0.8734\n",
            "Epoch 76/100\n",
            "125/125 [==============================] - 2s 12ms/step - loss: 0.0654 - accuracy: 0.9783 - val_loss: 0.6726 - val_accuracy: 0.8730\n",
            "Epoch 77/100\n",
            "125/125 [==============================] - 2s 12ms/step - loss: 0.0642 - accuracy: 0.9784 - val_loss: 0.6714 - val_accuracy: 0.8732\n",
            "Epoch 78/100\n",
            "125/125 [==============================] - 2s 12ms/step - loss: 0.0637 - accuracy: 0.9787 - val_loss: 0.6804 - val_accuracy: 0.8730\n",
            "Epoch 79/100\n",
            "125/125 [==============================] - 2s 13ms/step - loss: 0.0621 - accuracy: 0.9792 - val_loss: 0.6857 - val_accuracy: 0.8733\n",
            "Epoch 80/100\n",
            "125/125 [==============================] - 2s 13ms/step - loss: 0.0609 - accuracy: 0.9793 - val_loss: 0.6917 - val_accuracy: 0.8721\n",
            "Epoch 81/100\n",
            "125/125 [==============================] - 2s 13ms/step - loss: 0.0602 - accuracy: 0.9795 - val_loss: 0.6949 - val_accuracy: 0.8728\n",
            "Epoch 82/100\n",
            "125/125 [==============================] - 2s 13ms/step - loss: 0.0593 - accuracy: 0.9799 - val_loss: 0.7011 - val_accuracy: 0.8724\n",
            "Epoch 83/100\n",
            "125/125 [==============================] - 2s 12ms/step - loss: 0.0581 - accuracy: 0.9804 - val_loss: 0.7024 - val_accuracy: 0.8731\n",
            "Epoch 84/100\n",
            "125/125 [==============================] - 2s 12ms/step - loss: 0.0571 - accuracy: 0.9805 - val_loss: 0.7095 - val_accuracy: 0.8718\n",
            "Epoch 85/100\n",
            "125/125 [==============================] - 2s 12ms/step - loss: 0.0562 - accuracy: 0.9808 - val_loss: 0.7025 - val_accuracy: 0.8740\n",
            "Epoch 86/100\n",
            "125/125 [==============================] - 2s 12ms/step - loss: 0.0556 - accuracy: 0.9810 - val_loss: 0.7074 - val_accuracy: 0.8737\n",
            "Epoch 87/100\n",
            "125/125 [==============================] - 2s 12ms/step - loss: 0.0546 - accuracy: 0.9810 - val_loss: 0.7182 - val_accuracy: 0.8726\n",
            "Epoch 88/100\n",
            "125/125 [==============================] - 2s 13ms/step - loss: 0.0541 - accuracy: 0.9813 - val_loss: 0.7175 - val_accuracy: 0.8731\n",
            "Epoch 89/100\n",
            "125/125 [==============================] - 2s 12ms/step - loss: 0.0532 - accuracy: 0.9814 - val_loss: 0.7263 - val_accuracy: 0.8724\n",
            "Epoch 90/100\n",
            "125/125 [==============================] - 2s 12ms/step - loss: 0.0524 - accuracy: 0.9818 - val_loss: 0.7323 - val_accuracy: 0.8719\n",
            "Epoch 91/100\n",
            "125/125 [==============================] - 2s 12ms/step - loss: 0.0517 - accuracy: 0.9821 - val_loss: 0.7298 - val_accuracy: 0.8730\n",
            "Epoch 92/100\n",
            "125/125 [==============================] - 2s 12ms/step - loss: 0.0511 - accuracy: 0.9822 - val_loss: 0.7320 - val_accuracy: 0.8728\n",
            "Epoch 93/100\n",
            "125/125 [==============================] - 2s 12ms/step - loss: 0.0501 - accuracy: 0.9824 - val_loss: 0.7414 - val_accuracy: 0.8718\n",
            "Epoch 94/100\n",
            "125/125 [==============================] - 2s 12ms/step - loss: 0.0497 - accuracy: 0.9827 - val_loss: 0.7399 - val_accuracy: 0.8735\n",
            "Epoch 95/100\n",
            "125/125 [==============================] - 2s 12ms/step - loss: 0.0492 - accuracy: 0.9827 - val_loss: 0.7419 - val_accuracy: 0.8726\n",
            "Epoch 96/100\n",
            "125/125 [==============================] - 2s 13ms/step - loss: 0.0483 - accuracy: 0.9829 - val_loss: 0.7506 - val_accuracy: 0.8728\n",
            "Epoch 97/100\n",
            "125/125 [==============================] - 2s 13ms/step - loss: 0.0479 - accuracy: 0.9831 - val_loss: 0.7483 - val_accuracy: 0.8727\n",
            "Epoch 98/100\n",
            "125/125 [==============================] - 2s 13ms/step - loss: 0.0470 - accuracy: 0.9833 - val_loss: 0.7465 - val_accuracy: 0.8726\n",
            "Epoch 99/100\n",
            "125/125 [==============================] - 2s 13ms/step - loss: 0.0465 - accuracy: 0.9833 - val_loss: 0.7542 - val_accuracy: 0.8724\n",
            "Epoch 100/100\n",
            "125/125 [==============================] - 2s 12ms/step - loss: 0.0463 - accuracy: 0.9834 - val_loss: 0.7615 - val_accuracy: 0.8724\n"
          ]
        },
        {
          "output_type": "execute_result",
          "data": {
            "text/plain": [
              "<keras.callbacks.History at 0x7fb478457cd0>"
            ]
          },
          "metadata": {},
          "execution_count": 53
        }
      ]
    },
    {
      "cell_type": "code",
      "source": [
        "encoder_model = Model(encoder_inputs, encoder_states)\n",
        "\n",
        "decoder_state_input_h = Input(shape=(latent_dim,))\n",
        "decoder_state_input_c = Input(shape=(latent_dim,))\n",
        "decoder_states_inputs = [decoder_state_input_h, decoder_state_input_c]\n",
        "decoder_outputs, state_h, state_c = decoder_lstm(\n",
        "    decoder_inputs, initial_state=decoder_states_inputs)\n",
        "decoder_states = [state_h, state_c]\n",
        "decoder_outputs = decoder_dense(decoder_outputs)\n",
        "decoder_model = Model(\n",
        "    [decoder_inputs] + decoder_states_inputs,\n",
        "    [decoder_outputs] + decoder_states)\n",
        "\n",
        "reverse_input_char_index = dict(\n",
        "    (i,char) for char, i in input_token_index.items())\n",
        "reverse_target_char_index = dict(\n",
        "     (i,char) for char, i in input_token_index.items())\n",
        "\n",
        "def decode_sequence(input_seq):\n",
        "    # Encode the input as state vectors.\n",
        "    states_value = encoder_model.predict(input_seq)\n",
        "\n",
        "    # Generate empty target sequence of length 1.\n",
        "    target_seq = np.zeros((1, 1, num_decoder_tokens))\n",
        "    # Populate the first character of target sequence with the start character.\n",
        "    target_seq[0, 0, target_token_index['\\t']] = 1.\n",
        "\n",
        "    # Sampling loop for a batch of sequences\n",
        "    # (to simplify, here we assume a batch of size 1).\n",
        "    stop_condition = False\n",
        "    decoded_sentence = ''\n",
        "    while not stop_condition:\n",
        "        output_tokens, h, c = decoder_model.predict(\n",
        "            [target_seq] + states_value)\n",
        "\n",
        "        # Sample a token\n",
        "        sampled_token_index = np.argmax(output_tokens[0, -1, :])\n",
        "        sampled_char = reverse_target_char_index[sampled_token_index]\n",
        "        decoded_sentence += sampled_char\n",
        "\n",
        "        # Exit condition: either hit max length\n",
        "        # or find stop character.\n",
        "        if (sampled_char == '\\n' or\n",
        "           len(decoded_sentence) > max_decoder_seq_length):\n",
        "            stop_condition = True\n",
        "\n",
        "        # Update the target sequence (of length 1).\n",
        "        target_seq = np.zeros((1, 1, num_decoder_tokens))\n",
        "        target_seq[0, 0, sampled_token_index] = 1.\n",
        "\n",
        "        # Update states\n",
        "        states_value = [h, c]\n",
        "\n",
        "    return decoded_sentence\n",
        "\n",
        "for seq_index in range(100):\n",
        "  input_seq = encoder_input_data[seq_index: seq_index + 1]\n",
        "  decoded_sentence=decode_sequence(input_seq)\n",
        "  print('-')\n",
        "  print('Input Sentence: ',input_texts[seq_index])\n",
        "  print('Decoded Sentence: ',decoded_sentence)\n",
        "        "
      ],
      "metadata": {
        "colab": {
          "base_uri": "https://localhost:8080/",
          "height": 1000
        },
        "id": "9pCTuvFf6i4H",
        "outputId": "79edca80-7b56-4579-bfdb-635780be69ef"
      },
      "execution_count": 56,
      "outputs": [
        {
          "output_type": "stream",
          "name": "stdout",
          "text": [
            "-\n",
            "Input Sentence:  Go.\n",
            "Decoded Sentence:  Wb\"$!\"\"\"\"\"\"\"\"\"\"\"\"\"\"\"\"\"\"\"\"\"\"\"\"\"\"\"\"\"\"\"\"\"\"\"\"\"\"\"\"\"\"\"\"\"\"\"\"\"\"\"\"\"\"\"\n",
            "-\n",
            "Input Sentence:  Go.\n",
            "Decoded Sentence:  Wb\"$!\"\"\"\"\"\"\"\"\"\"\"\"\"\"\"\"\"\"\"\"\"\"\"\"\"\"\"\"\"\"\"\"\"\"\"\"\"\"\"\"\"\"\"\"\"\"\"\"\"\"\"\"\"\"\"\n",
            "-\n",
            "Input Sentence:  Go.\n",
            "Decoded Sentence:  Wb\"$!\"\"\"\"\"\"\"\"\"\"\"\"\"\"\"\"\"\"\"\"\"\"\"\"\"\"\"\"\"\"\"\"\"\"\"\"\"\"\"\"\"\"\"\"\"\"\"\"\"\"\"\"\"\"\"\n",
            "-\n",
            "Input Sentence:  Hi.\n",
            "Decoded Sentence:  Tbmvu1!\"\"\"\"\"\"\"\"\"\"\"\"\"\"\"\"\"\"\"\"\"\"\"\"\"\"\"\"\"\"\"\"\"\"\"\"\"\"\"\"\"\"\"\"\"\"\"\"\"\"\"\"\"\n",
            "-\n",
            "Input Sentence:  Hi.\n",
            "Decoded Sentence:  Tbmvu1!\"\"\"\"\"\"\"\"\"\"\"\"\"\"\"\"\"\"\"\"\"\"\"\"\"\"\"\"\"\"\"\"\"\"\"\"\"\"\"\"\"\"\"\"\"\"\"\"\"\"\"\"\"\n",
            "-\n",
            "Input Sentence:  Run!\n",
            "Decoded Sentence:  Gvzfé\"$!\"\"\"\"\"\"\"\"\"\"\"\"\"\"\"\"\"\"\"\"\"\"\"\"\"\"\"\"\"\"\"\"\"\"\"\"\"\"\"\"\"\"\"\"\"\"\"\"\"\"\"\"\n",
            "-\n",
            "Input Sentence:  Run!\n",
            "Decoded Sentence:  Gvzfé\"$!\"\"\"\"\"\"\"\"\"\"\"\"\"\"\"\"\"\"\"\"\"\"\"\"\"\"\"\"\"\"\"\"\"\"\"\"\"\"\"\"\"\"\"\"\"\"\"\"\"\"\"\"\n",
            "-\n",
            "Input Sentence:  Run!\n",
            "Decoded Sentence:  Gvzfé\"$!\"\"\"\"\"\"\"\"\"\"\"\"\"\"\"\"\"\"\"\"\"\"\"\"\"\"\"\"\"\"\"\"\"\"\"\"\"\"\"\"\"\"\"\"\"\"\"\"\"\"\"\"\n",
            "-\n",
            "Input Sentence:  Run!\n",
            "Decoded Sentence:  Gvzfé\"$!\"\"\"\"\"\"\"\"\"\"\"\"\"\"\"\"\"\"\"\"\"\"\"\"\"\"\"\"\"\"\"\"\"\"\"\"\"\"\"\"\"\"\"\"\"\"\"\"\"\"\"\"\n",
            "-\n",
            "Input Sentence:  Run!\n",
            "Decoded Sentence:  Gvzfé\"$!\"\"\"\"\"\"\"\"\"\"\"\"\"\"\"\"\"\"\"\"\"\"\"\"\"\"\"\"\"\"\"\"\"\"\"\"\"\"\"\"\"\"\"\"\"\"\"\"\"\"\"\"\n",
            "-\n",
            "Input Sentence:  Run!\n",
            "Decoded Sentence:  Gvzfé\"$!\"\"\"\"\"\"\"\"\"\"\"\"\"\"\"\"\"\"\"\"\"\"\"\"\"\"\"\"\"\"\"\"\"\"\"\"\"\"\"\"\"\"\"\"\"\"\"\"\"\"\"\"\n",
            "-\n",
            "Input Sentence:  Run!\n",
            "Decoded Sentence:  Gvzfé\"$!\"\"\"\"\"\"\"\"\"\"\"\"\"\"\"\"\"\"\"\"\"\"\"\"\"\"\"\"\"\"\"\"\"\"\"\"\"\"\"\"\"\"\"\"\"\"\"\"\"\"\"\"\n",
            "-\n",
            "Input Sentence:  Run!\n",
            "Decoded Sentence:  Gvzfé\"$!\"\"\"\"\"\"\"\"\"\"\"\"\"\"\"\"\"\"\"\"\"\"\"\"\"\"\"\"\"\"\"\"\"\"\"\"\"\"\"\"\"\"\"\"\"\"\"\"\"\"\"\"\n",
            "-\n",
            "Input Sentence:  Run.\n",
            "Decoded Sentence:  Gvzfé\"$!\"\"\"\"\"\"\"\"\"\"\"\"\"\"\"\"\"\"\"\"\"\"\"\"\"\"\"\"\"\"\"\"\"\"\"\"\"\"\"\"\"\"\"\"\"\"\"\"\"\"\"\"\n",
            "-\n",
            "Input Sentence:  Run.\n",
            "Decoded Sentence:  Gvzfé\"$!\"\"\"\"\"\"\"\"\"\"\"\"\"\"\"\"\"\"\"\"\"\"\"\"\"\"\"\"\"\"\"\"\"\"\"\"\"\"\"\"\"\"\"\"\"\"\"\"\"\"\"\"\n",
            "-\n",
            "Input Sentence:  Run.\n",
            "Decoded Sentence:  Gvzfé\"$!\"\"\"\"\"\"\"\"\"\"\"\"\"\"\"\"\"\"\"\"\"\"\"\"\"\"\"\"\"\"\"\"\"\"\"\"\"\"\"\"\"\"\"\"\"\"\"\"\"\"\"\"\n",
            "-\n",
            "Input Sentence:  Run.\n",
            "Decoded Sentence:  Gvzfé\"$!\"\"\"\"\"\"\"\"\"\"\"\"\"\"\"\"\"\"\"\"\"\"\"\"\"\"\"\"\"\"\"\"\"\"\"\"\"\"\"\"\"\"\"\"\"\"\"\"\"\"\"\"\n",
            "-\n",
            "Input Sentence:  Run.\n",
            "Decoded Sentence:  Gvzfé\"$!\"\"\"\"\"\"\"\"\"\"\"\"\"\"\"\"\"\"\"\"\"\"\"\"\"\"\"\"\"\"\"\"\"\"\"\"\"\"\"\"\"\"\"\"\"\"\"\"\"\"\"\"\n",
            "-\n",
            "Input Sentence:  Run.\n",
            "Decoded Sentence:  Gvzfé\"$!\"\"\"\"\"\"\"\"\"\"\"\"\"\"\"\"\"\"\"\"\"\"\"\"\"\"\"\"\"\"\"\"\"\"\"\"\"\"\"\"\"\"\"\"\"\"\"\"\"\"\"\"\n",
            "-\n",
            "Input Sentence:  Run.\n",
            "Decoded Sentence:  Gvzfé\"$!\"\"\"\"\"\"\"\"\"\"\"\"\"\"\"\"\"\"\"\"\"\"\"\"\"\"\"\"\"\"\"\"\"\"\"\"\"\"\"\"\"\"\"\"\"\"\"\"\"\"\"\"\n",
            "-\n",
            "Input Sentence:  Run.\n",
            "Decoded Sentence:  Gvzfé\"$!\"\"\"\"\"\"\"\"\"\"\"\"\"\"\"\"\"\"\"\"\"\"\"\"\"\"\"\"\"\"\"\"\"\"\"\"\"\"\"\"\"\"\"\"\"\"\"\"\"\"\"\"\n",
            "-\n",
            "Input Sentence:  Who?\n",
            "Decoded Sentence:  Rvj\"A!\"\"\"\"\"\"\"\"\"\"\"\"\"\"\"\"\"\"\"\"\"\"\"\"\"\"\"\"\"\"\"\"\"\"\"\"\"\"\"\"\"\"\"\"\"\"\"\"\"\"\"\"\"\"\n"
          ]
        },
        {
          "output_type": "error",
          "ename": "KeyError",
          "evalue": "ignored",
          "traceback": [
            "\u001b[0;31m---------------------------------------------------------------------------\u001b[0m",
            "\u001b[0;31mKeyError\u001b[0m                                  Traceback (most recent call last)",
            "\u001b[0;32m<ipython-input-56-bc02f12cd275>\u001b[0m in \u001b[0;36m<module>\u001b[0;34m()\u001b[0m\n\u001b[1;32m     56\u001b[0m \u001b[0;32mfor\u001b[0m \u001b[0mseq_index\u001b[0m \u001b[0;32min\u001b[0m \u001b[0mrange\u001b[0m\u001b[0;34m(\u001b[0m\u001b[0;36m100\u001b[0m\u001b[0;34m)\u001b[0m\u001b[0;34m:\u001b[0m\u001b[0;34m\u001b[0m\u001b[0;34m\u001b[0m\u001b[0m\n\u001b[1;32m     57\u001b[0m   \u001b[0minput_seq\u001b[0m \u001b[0;34m=\u001b[0m \u001b[0mencoder_input_data\u001b[0m\u001b[0;34m[\u001b[0m\u001b[0mseq_index\u001b[0m\u001b[0;34m:\u001b[0m \u001b[0mseq_index\u001b[0m \u001b[0;34m+\u001b[0m \u001b[0;36m1\u001b[0m\u001b[0;34m]\u001b[0m\u001b[0;34m\u001b[0m\u001b[0;34m\u001b[0m\u001b[0m\n\u001b[0;32m---> 58\u001b[0;31m   \u001b[0mdecoded_sentence\u001b[0m\u001b[0;34m=\u001b[0m\u001b[0mdecode_sequence\u001b[0m\u001b[0;34m(\u001b[0m\u001b[0minput_seq\u001b[0m\u001b[0;34m)\u001b[0m\u001b[0;34m\u001b[0m\u001b[0;34m\u001b[0m\u001b[0m\n\u001b[0m\u001b[1;32m     59\u001b[0m   \u001b[0mprint\u001b[0m\u001b[0;34m(\u001b[0m\u001b[0;34m'-'\u001b[0m\u001b[0;34m)\u001b[0m\u001b[0;34m\u001b[0m\u001b[0;34m\u001b[0m\u001b[0m\n\u001b[1;32m     60\u001b[0m   \u001b[0mprint\u001b[0m\u001b[0;34m(\u001b[0m\u001b[0;34m'Input Sentence: '\u001b[0m\u001b[0;34m,\u001b[0m\u001b[0minput_texts\u001b[0m\u001b[0;34m[\u001b[0m\u001b[0mseq_index\u001b[0m\u001b[0;34m]\u001b[0m\u001b[0;34m)\u001b[0m\u001b[0;34m\u001b[0m\u001b[0;34m\u001b[0m\u001b[0m\n",
            "\u001b[0;32m<ipython-input-56-bc02f12cd275>\u001b[0m in \u001b[0;36mdecode_sequence\u001b[0;34m(input_seq)\u001b[0m\n\u001b[1;32m     36\u001b[0m         \u001b[0;31m# Sample a token\u001b[0m\u001b[0;34m\u001b[0m\u001b[0;34m\u001b[0m\u001b[0;34m\u001b[0m\u001b[0m\n\u001b[1;32m     37\u001b[0m         \u001b[0msampled_token_index\u001b[0m \u001b[0;34m=\u001b[0m \u001b[0mnp\u001b[0m\u001b[0;34m.\u001b[0m\u001b[0margmax\u001b[0m\u001b[0;34m(\u001b[0m\u001b[0moutput_tokens\u001b[0m\u001b[0;34m[\u001b[0m\u001b[0;36m0\u001b[0m\u001b[0;34m,\u001b[0m \u001b[0;34m-\u001b[0m\u001b[0;36m1\u001b[0m\u001b[0;34m,\u001b[0m \u001b[0;34m:\u001b[0m\u001b[0;34m]\u001b[0m\u001b[0;34m)\u001b[0m\u001b[0;34m\u001b[0m\u001b[0;34m\u001b[0m\u001b[0m\n\u001b[0;32m---> 38\u001b[0;31m         \u001b[0msampled_char\u001b[0m \u001b[0;34m=\u001b[0m \u001b[0mreverse_target_char_index\u001b[0m\u001b[0;34m[\u001b[0m\u001b[0msampled_token_index\u001b[0m\u001b[0;34m]\u001b[0m\u001b[0;34m\u001b[0m\u001b[0;34m\u001b[0m\u001b[0m\n\u001b[0m\u001b[1;32m     39\u001b[0m         \u001b[0mdecoded_sentence\u001b[0m \u001b[0;34m+=\u001b[0m \u001b[0msampled_char\u001b[0m\u001b[0;34m\u001b[0m\u001b[0;34m\u001b[0m\u001b[0m\n\u001b[1;32m     40\u001b[0m \u001b[0;34m\u001b[0m\u001b[0m\n",
            "\u001b[0;31mKeyError\u001b[0m: 71"
          ]
        }
      ]
    }
  ]
}