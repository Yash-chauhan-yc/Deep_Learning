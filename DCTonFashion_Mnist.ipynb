{
  "nbformat": 4,
  "nbformat_minor": 0,
  "metadata": {
    "colab": {
      "name": "Untitled16.ipynb",
      "provenance": [],
      "authorship_tag": "ABX9TyMTMqkH9qMaV1UnztasApx/",
      "include_colab_link": true
    },
    "kernelspec": {
      "name": "python3",
      "display_name": "Python 3"
    },
    "language_info": {
      "name": "python"
    },
    "accelerator": "TPU",
    "gpuClass": "standard"
  },
  "cells": [
    {
      "cell_type": "markdown",
      "metadata": {
        "id": "view-in-github",
        "colab_type": "text"
      },
      "source": [
        "<a href=\"https://colab.research.google.com/github/Yashchauhan23/Deep_Learning/blob/main/DCTonFashion_Mnist.ipynb\" target=\"_parent\"><img src=\"https://colab.research.google.com/assets/colab-badge.svg\" alt=\"Open In Colab\"/></a>"
      ]
    },
    {
      "cell_type": "markdown",
      "source": [
        "##DISCRETE COSINE TRANSFORM(DCT)\n",
        "###This section demonstrates the Discrete Cosine Transform of an fashion_mnist dataset. As in the Jpeg standard the DCT is performed blockwise. The entire image is partitioned into non-overlapping blocks of size (8x8) pixels. The transformed image is backtransformed by applying the Inverse Discrete Cosine Transform (IDCT). The reconstructed image is identical to the original image"
      ],
      "metadata": {
        "id": "NhNalamUJs9C"
      }
    },
    {
      "cell_type": "code",
      "execution_count": 21,
      "metadata": {
        "id": "jKV9iGBi51tL"
      },
      "outputs": [],
      "source": [
        "import tensorflow.keras\n",
        "from tensorflow.keras.datasets import fashion_mnist"
      ]
    },
    {
      "cell_type": "markdown",
      "source": [
        "###Loading the Fashion_mnist dataset"
      ],
      "metadata": {
        "id": "uXn96GRxKCKH"
      }
    },
    {
      "cell_type": "code",
      "source": [
        "(X_train, Y_train), (X_test, Y_test) = fashion_mnist.load_data()"
      ],
      "metadata": {
        "id": "gqooRbng6KuR"
      },
      "execution_count": 22,
      "outputs": []
    },
    {
      "cell_type": "markdown",
      "source": [
        "###Converting into .jpg format"
      ],
      "metadata": {
        "id": "MGHZolX3KnKx"
      }
    },
    {
      "cell_type": "code",
      "source": [
        "import numpy as np\n",
        "from PIL import Image, ImageOps\n",
        "import os\n",
        "\n",
        "def save_image(filename, data_array):\n",
        "    im = Image.fromarray(data_array.astype('uint8'))\n",
        "    im_invert = ImageOps.invert(im)\n",
        "    im_invert.save(filename)\n",
        "\n",
        "# Load Fashion-MNIST Data\n",
        "(x_train, y_train), (x_test, y_test) = fashion_mnist.load_data()\n",
        "\n",
        "DIR_NAME = \"JPEGImages\"\n",
        "if os.path.exists(DIR_NAME) == False:\n",
        "    os.mkdir(DIR_NAME)\n",
        "\n",
        "# Save Images\n",
        "i = 0\n",
        "for li in [x_train, x_test]:\n",
        "    print(\"[---------------------------------------------------------------]\")\n",
        "    for x in li:\n",
        "        filename = \"{0}/{1:05d}.jpg\".format(DIR_NAME,i)\n",
        "        print(filename)\n",
        "        save_image(filename, x)\n",
        "        i += 1"
      ],
      "metadata": {
        "id": "3jC4Ih9z7mGQ"
      },
      "execution_count": null,
      "outputs": []
    },
    {
      "cell_type": "markdown",
      "source": [
        "###Importing essential libraries"
      ],
      "metadata": {
        "id": "fBKYWc4iKv3z"
      }
    },
    {
      "cell_type": "code",
      "source": [
        "import cv2\n",
        "import numpy as np\n",
        "from matplotlib import pyplot as plt\n",
        "from matplotlib.colors import Normalize\n",
        "import matplotlib.cm as cm"
      ],
      "metadata": {
        "id": "HIr3LwFW6dET"
      },
      "execution_count": 24,
      "outputs": []
    },
    {
      "cell_type": "code",
      "source": [
        "img = cv2.imread('JPEGImages/69985.jpg')\n",
        "plt.imshow(img)"
      ],
      "metadata": {
        "colab": {
          "base_uri": "https://localhost:8080/",
          "height": 282
        },
        "id": "W_MkeEH6AOY3",
        "outputId": "7b8900c9-1e29-42ce-c17a-830ef76ca577"
      },
      "execution_count": 25,
      "outputs": [
        {
          "output_type": "execute_result",
          "data": {
            "text/plain": [
              "<matplotlib.image.AxesImage at 0x7f9b74969890>"
            ]
          },
          "metadata": {},
          "execution_count": 25
        },
        {
          "output_type": "display_data",
          "data": {
            "text/plain": [
              "<Figure size 432x288 with 1 Axes>"
            ],
            "image/png": "[encoded data removed]"
          },
          "metadata": {
            "needs_background": "light"
          }
        }
      ]
    },
    {
      "cell_type": "markdown",
      "source": [
        "###The height and width of the blocks is B=8. An image is imported and transformed to a grayscale image. Moreover, the image is cropped, such that its height and width is a multiple of the blocksize B."
      ],
      "metadata": {
        "id": "K40EBYAdK3t_"
      }
    },
    {
      "cell_type": "code",
      "source": [
        "B=8 #blocksize\n",
        "fn3='JPEGImages/69985.jpg'\n",
        "img1 = cv2.imread(fn3, cv2.IMREAD_GRAYSCALE)\n",
        "h,w=np.array(img1.shape[:2])/B * B\n",
        "h=int(h)\n",
        "w=int(w)\n",
        "print (h)\n",
        "print (w)\n",
        "img1=img1[:h,:w]\n",
        "plt.imshow(img1)"
      ],
      "metadata": {
        "colab": {
          "base_uri": "https://localhost:8080/",
          "height": 317
        },
        "id": "bZ7lSOjG6oxN",
        "outputId": "8786681a-2b35-46e3-8dfb-1e33586383ff"
      },
      "execution_count": 47,
      "outputs": [
        {
          "output_type": "stream",
          "name": "stdout",
          "text": [
            "28\n",
            "28\n"
          ]
        },
        {
          "output_type": "execute_result",
          "data": {
            "text/plain": [
              "<matplotlib.image.AxesImage at 0x7f9b74896c10>"
            ]
          },
          "metadata": {},
          "execution_count": 47
        },
        {
          "output_type": "display_data",
          "data": {
            "text/plain": [
              "<Figure size 432x288 with 1 Axes>"
            ],
            "image/png": "[encoded data removed]"
          },
          "metadata": {
            "needs_background": "light"
          }
        }
      ]
    },
    {
      "cell_type": "markdown",
      "source": [
        "###For each block in the image the DCT is applied. The transformed image is stored in the variable Trans and it is saved to the file Transformed.jpg:"
      ],
      "metadata": {
        "id": "SQDF2oaULJB-"
      }
    },
    {
      "cell_type": "code",
      "source": [
        "blocksV=int(h/B)\n",
        "blocksH=int(w/B)\n",
        "vis0 = np.zeros((h,w), np.float32)\n",
        "Trans = np.zeros((h,w), np.float32)\n",
        "vis0[:h, :w] = img1\n",
        "for row in range(blocksV):\n",
        "        for col in range(blocksH):\n",
        "                currentblock = cv2.dct(vis0[row*B:(row+1)*B,col*B:(col+1)*B])\n",
        "                Trans[row*B:(row+1)*B,col*B:(col+1)*B]=currentblock\n",
        "cv2.imwrite('Transformed.jpg', Trans)"
      ],
      "metadata": {
        "colab": {
          "base_uri": "https://localhost:8080/"
        },
        "id": "fdLAK6C99SWv",
        "outputId": "716dd30d-4d6a-4f30-db21-8cf70490b473"
      },
      "execution_count": 40,
      "outputs": [
        {
          "output_type": "execute_result",
          "data": {
            "text/plain": [
              "True"
            ]
          },
          "metadata": {},
          "execution_count": 40
        }
      ]
    },
    {
      "cell_type": "code",
      "source": [
        "print(Trans)"
      ],
      "metadata": {
        "id": "cU9uz8QnE8xm"
      },
      "execution_count": null,
      "outputs": []
    },
    {
      "cell_type": "code",
      "source": [
        "Transformed_image = cv2.imread('Transformed.jpg')\n",
        "plt.imshow(Transformed_image)"
      ],
      "metadata": {
        "colab": {
          "base_uri": "https://localhost:8080/",
          "height": 282
        },
        "id": "uYbj0KZ-FBhN",
        "outputId": "8e5f8886-2af3-4eb9-c018-35f55e80a55e"
      },
      "execution_count": 42,
      "outputs": [
        {
          "output_type": "execute_result",
          "data": {
            "text/plain": [
              "<matplotlib.image.AxesImage at 0x7f9b744ed8d0>"
            ]
          },
          "metadata": {},
          "execution_count": 42
        },
        {
          "output_type": "display_data",
          "data": {
            "text/plain": [
              "<Figure size 432x288 with 1 Axes>"
            ],
            "image/png": "[encoded data removed]"
          },
          "metadata": {
            "needs_background": "light"
          }
        }
      ]
    },
    {
      "cell_type": "markdown",
      "source": [
        "###Then the IDCT is applied to reconstruct the original image from the transformed representation. The reconstructed image is stored in the variable back0 and it is saved to the file BackTransformed.jpg"
      ],
      "metadata": {
        "id": "LpZeJNWoLXCP"
      }
    },
    {
      "cell_type": "code",
      "source": [
        "back0 = np.zeros((h,w), np.float32)\n",
        "for row in range(blocksV):\n",
        "        for col in range(blocksH):\n",
        "                currentblock = cv2.idct(Trans[row*B:(row+1)*B,col*B:(col+1)*B])\n",
        "                back0[row*B:(row+1)*B,col*B:(col+1)*B]=currentblock\n",
        "cv2.imwrite('BackTransformed.jpg', back0)"
      ],
      "metadata": {
        "colab": {
          "base_uri": "https://localhost:8080/"
        },
        "id": "0x0KgAt8FJYV",
        "outputId": "76e850ec-053c-4431-e7dd-51c44913b14c"
      },
      "execution_count": 43,
      "outputs": [
        {
          "output_type": "execute_result",
          "data": {
            "text/plain": [
              "True"
            ]
          },
          "metadata": {},
          "execution_count": 43
        }
      ]
    },
    {
      "cell_type": "code",
      "source": [
        "BackTransformed_image = cv2.imread('BackTransformed.jpg')\n",
        "plt.imshow(BackTransformed_image)"
      ],
      "metadata": {
        "colab": {
          "base_uri": "https://localhost:8080/",
          "height": 282
        },
        "id": "acg97ZiVFNzY",
        "outputId": "f9701ba9-fefb-4267-8c82-9913fbaba089"
      },
      "execution_count": 44,
      "outputs": [
        {
          "output_type": "execute_result",
          "data": {
            "text/plain": [
              "<matplotlib.image.AxesImage at 0x7f9b7443e7d0>"
            ]
          },
          "metadata": {},
          "execution_count": 44
        },
        {
          "output_type": "display_data",
          "data": {
            "text/plain": [
              "<Figure size 432x288 with 1 Axes>"
            ],
            "image/png": "[encoded data removed]"
          },
          "metadata": {
            "needs_background": "light"
          }
        }
      ]
    },
    {
      "cell_type": "code",
      "source": [
        ""
      ],
      "metadata": {
        "id": "oqb4OftVFRRa"
      },
      "execution_count": null,
      "outputs": []
    }
  ]
}