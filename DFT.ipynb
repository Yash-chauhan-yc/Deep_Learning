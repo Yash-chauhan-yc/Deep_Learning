{
  "nbformat": 4,
  "nbformat_minor": 0,
  "metadata": {
    "colab": {
      "name": "Untitled17.ipynb",
      "provenance": [],
      "authorship_tag": "ABX9TyPWSmdrI6xp+j4hatRb3Q2S",
      "include_colab_link": true
    },
    "kernelspec": {
      "name": "python3",
      "display_name": "Python 3"
    },
    "language_info": {
      "name": "python"
    },
    "accelerator": "GPU",
    "gpuClass": "standard"
  },
  "cells": [
    {
      "cell_type": "markdown",
      "metadata": {
        "id": "view-in-github",
        "colab_type": "text"
      },
      "source": [
        "<a href=\"https://colab.research.google.com/github/Yashchauhan23/Deep_Learning/blob/main/DFT.ipynb\" target=\"_parent\"><img src=\"https://colab.research.google.com/assets/colab-badge.svg\" alt=\"Open In Colab\"/></a>"
      ]
    },
    {
      "cell_type": "code",
      "execution_count": 1,
      "metadata": {
        "id": "t2f-x8-sOHue"
      },
      "outputs": [],
      "source": [
        "from PIL import Image\n",
        "import cmath\n",
        "from skimage import io, transform\n",
        "import sys\n",
        "import numpy as np\n",
        "import cv2\n",
        "from matplotlib import pyplot as plt"
      ]
    },
    {
      "cell_type": "code",
      "source": [
        "pi2 = cmath.pi * 2.0"
      ],
      "metadata": {
        "id": "JMjn0nP8OShF"
      },
      "execution_count": 2,
      "outputs": []
    },
    {
      "cell_type": "code",
      "source": [
        "def Discrete_FouriorT_2D(image):\n",
        "    global M, N\n",
        "    (M, N) = image.size\n",
        "    # Creating a 2D matrix of M x N Containing zeroes\n",
        "    channel_gray = np.zeros([M, N], dtype=complex)\n",
        "    # load() Allocates storage for the image and loads the pixel data\n",
        "    pixels = image.load()\n",
        "    for k in range(M):\n",
        "        print(\"DFT - \", k)\n",
        "        for l in range(N):\n",
        "            sum_gray = 0.0\n",
        "\n",
        "            for m in range(M):\n",
        "                for n in range(N):\n",
        "                    gray = pixels[m, n]\n",
        "                    e = cmath.exp(- 1j * pi2 * (float(k * m) / M + float(l * n) / N))\n",
        "                    sum_gray += gray * e\n",
        "                    channel_gray[l][k] = sum_gray / M / N\n",
        "    return (channel_gray)\n"
      ],
      "metadata": {
        "id": "JH1YPnULOU4z"
      },
      "execution_count": 3,
      "outputs": []
    },
    {
      "cell_type": "code",
      "source": [
        "def Inverse_Discrete_FouriorT_2D(dft2d):\n",
        "    dft2d_gray = dft2d\n",
        "    global M, N\n",
        "    # Creates a new image with the given mode and size. L is a flag used for GrayScale images\n",
        "    image = Image.new(\"L\", (M, N))\n",
        "    # load() Allocates storage for the image and loads the pixel data\n",
        "    pixels = image.load()\n",
        "    for m in range(M):\n",
        "        print(\"IDFT - \", m)\n",
        "        for n in range(N):\n",
        "            sum_gray = 0.0\n",
        "            for k in range(M):\n",
        "                for l in range(N):\n",
        "                    e = cmath.exp(1j * pi2 * (float(k * m) / M + float(l * n) / N))\n",
        "                    sum_gray += dft2d_gray[l][k] * e\n",
        "            gray = int(sum_gray.real + 0.5)\n",
        "            pixels[m, n] = (gray)\n",
        "    return image"
      ],
      "metadata": {
        "id": "loWTB773OYcL"
      },
      "execution_count": 4,
      "outputs": []
    },
    {
      "cell_type": "code",
      "source": [
        "image = cv2.imread(\"1.jpg\",0)"
      ],
      "metadata": {
        "id": "FM-F-FW9Od-z"
      },
      "execution_count": 5,
      "outputs": []
    },
    {
      "cell_type": "code",
      "source": [
        "# Resizing Image so that prccess can be carried out fastly\n",
        "resized_image = transform.resize(image, (64, 64))"
      ],
      "metadata": {
        "id": "wIOytmptOjJt"
      },
      "execution_count": 6,
      "outputs": []
    },
    {
      "cell_type": "code",
      "source": [
        "# Saving Resized Image\n",
        "io.imsave(\"resized-1.jpg\", resized_image)"
      ],
      "metadata": {
        "id": "adgizVqROsX1"
      },
      "execution_count": null,
      "outputs": []
    },
    {
      "cell_type": "code",
      "source": [
        "# Opening Resized Image\n",
        "image = Image.open(\"resized-1.jpg\")"
      ],
      "metadata": {
        "id": "SbyFzpHhO-_0"
      },
      "execution_count": 11,
      "outputs": []
    },
    {
      "cell_type": "code",
      "source": [
        "# Applying DFT\n",
        "DFT2D = Discrete_FouriorT_2D(image)"
      ],
      "metadata": {
        "id": "5wMhkqR4PFZV"
      },
      "execution_count": null,
      "outputs": []
    },
    {
      "cell_type": "code",
      "source": [
        "# Applying IDFT\n",
        "Output = Inverse_Discrete_FouriorT_2D(DFT2D)\n"
      ],
      "metadata": {
        "id": "RMASESuePM59"
      },
      "execution_count": null,
      "outputs": []
    },
    {
      "cell_type": "code",
      "source": [
        "# Display Resized Input Image\n",
        "plt.subplot(131),plt.imshow(image, cmap = 'gray')\n",
        "plt.title('Input Image'), plt.xticks([]), plt.yticks([])"
      ],
      "metadata": {
        "colab": {
          "base_uri": "https://localhost:8080/",
          "height": 201
        },
        "id": "3F8lFESNPdMm",
        "outputId": "a822cdfd-13f2-414e-9f04-797bd6c79c37"
      },
      "execution_count": 14,
      "outputs": [
        {
          "output_type": "execute_result",
          "data": {
            "text/plain": [
              "(Text(0.5, 1.0, 'Input Image'),\n",
              " ([], <a list of 0 Text major ticklabel objects>),\n",
              " ([], <a list of 0 Text major ticklabel objects>))"
            ]
          },
          "metadata": {},
          "execution_count": 14
        },
        {
          "output_type": "display_data",
          "data": {
            "text/plain": [
              "<Figure size 432x288 with 1 Axes>"
            ],
            "image/png": "[encoded data removed]"
          },
          "metadata": {}
        }
      ]
    },
    {
      "cell_type": "code",
      "source": [
        "# The output of DFT consists of complex values, in order to display it we need perform following calculation\n",
        "DFT_Display = 20*np.log10(np.abs(DFT2D))"
      ],
      "metadata": {
        "id": "K1zHOC8YPk-c"
      },
      "execution_count": 15,
      "outputs": []
    },
    {
      "cell_type": "code",
      "source": [
        "# Displaying output of DFT\n",
        "plt.subplot(132),plt.imshow(DFT_Display,cmap='gray')\n",
        "plt.title('DFT'), plt.xticks([]), plt.yticks([])"
      ],
      "metadata": {
        "colab": {
          "base_uri": "https://localhost:8080/",
          "height": 201
        },
        "id": "_5JUYR-4PpJl",
        "outputId": "b9e1e053-620d-4016-b353-fab7126a6107"
      },
      "execution_count": 16,
      "outputs": [
        {
          "output_type": "execute_result",
          "data": {
            "text/plain": [
              "(Text(0.5, 1.0, 'DFT'),\n",
              " ([], <a list of 0 Text major ticklabel objects>),\n",
              " ([], <a list of 0 Text major ticklabel objects>))"
            ]
          },
          "metadata": {},
          "execution_count": 16
        },
        {
          "output_type": "display_data",
          "data": {
            "text/plain": [
              "<Figure size 432x288 with 1 Axes>"
            ],
            "image/png": "[encoded data removed]"
          },
          "metadata": {}
        }
      ]
    },
    {
      "cell_type": "code",
      "source": [
        "# Saving output of DFT\n",
        "plt.imsave('DFT.png', DFT_Display, cmap='gray')"
      ],
      "metadata": {
        "id": "sS4jeiPYPr_F"
      },
      "execution_count": 17,
      "outputs": []
    },
    {
      "cell_type": "code",
      "source": [
        "# Displaying output of IDFT\n",
        "plt.subplot(133),plt.imshow(Output,cmap='gray')\n",
        "plt.title('IDFT'), plt.xticks([]), plt.yticks([])"
      ],
      "metadata": {
        "colab": {
          "base_uri": "https://localhost:8080/",
          "height": 201
        },
        "id": "QmfJgwUiPvR0",
        "outputId": "a8bbfd21-336a-47eb-f842-09b2c7907f19"
      },
      "execution_count": 18,
      "outputs": [
        {
          "output_type": "execute_result",
          "data": {
            "text/plain": [
              "(Text(0.5, 1.0, 'IDFT'),\n",
              " ([], <a list of 0 Text major ticklabel objects>),\n",
              " ([], <a list of 0 Text major ticklabel objects>))"
            ]
          },
          "metadata": {},
          "execution_count": 18
        },
        {
          "output_type": "display_data",
          "data": {
            "text/plain": [
              "<Figure size 432x288 with 1 Axes>"
            ],
            "image/png": "[encoded data removed]"
          },
          "metadata": {}
        }
      ]
    },
    {
      "cell_type": "code",
      "source": [
        "# Saving output of IDFT\n",
        "plt.imsave(\"IDFT.png\", Output, cmap='gray')"
      ],
      "metadata": {
        "id": "l_3B7hAVPyWb"
      },
      "execution_count": 19,
      "outputs": []
    },
    {
      "cell_type": "code",
      "source": [
        "plt.show()"
      ],
      "metadata": {
        "id": "tTkcCKKxP2Sm"
      },
      "execution_count": 20,
      "outputs": []
    },
    {
      "cell_type": "code",
      "source": [
        ""
      ],
      "metadata": {
        "id": "wtQeEP3QP4os"
      },
      "execution_count": null,
      "outputs": []
    }
  ]
}