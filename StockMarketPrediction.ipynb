{
 "cells": [
  {
   "cell_type": "code",
   "execution_count": 1,
   "id": "04b9f3f4",
   "metadata": {
    "collapsed": true
   },
   "outputs": [
    {
     "name": "stdout",
     "output_type": "stream",
     "text": [
      "Requirement already satisfied: pandas_datareader in c:\\users\\yashc\\anaconda3\\envs\\gputest\\lib\\site-packages (0.10.0)Note: you may need to restart the kernel to use updated packages.\n",
      "Requirement already satisfied: lxml in c:\\users\\yashc\\anaconda3\\envs\\gputest\\lib\\site-packages (from pandas_datareader) (4.9.1)\n",
      "Requirement already satisfied: requests>=2.19.0 in c:\\users\\yashc\\anaconda3\\envs\\gputest\\lib\\site-packages (from pandas_datareader) (2.28.1)\n",
      "Requirement already satisfied: pandas>=0.23 in c:\\users\\yashc\\anaconda3\\envs\\gputest\\lib\\site-packages (from pandas_datareader) (1.4.3)\n",
      "Requirement already satisfied: numpy>=1.18.5 in c:\\users\\yashc\\anaconda3\\envs\\gputest\\lib\\site-packages (from pandas>=0.23->pandas_datareader) (1.23.1)\n",
      "Requirement already satisfied: python-dateutil>=2.8.1 in c:\\users\\yashc\\anaconda3\\envs\\gputest\\lib\\site-packages (from pandas>=0.23->pandas_datareader) (2.8.2)\n",
      "Requirement already satisfied: pytz>=2020.1 in c:\\users\\yashc\\anaconda3\\envs\\gputest\\lib\\site-packages (from pandas>=0.23->pandas_datareader) (2022.1)\n",
      "\n",
      "Requirement already satisfied: certifi>=2017.4.17 in c:\\users\\yashc\\anaconda3\\envs\\gputest\\lib\\site-packages (from requests>=2.19.0->pandas_datareader) (2022.6.15)\n",
      "Requirement already satisfied: charset-normalizer<3,>=2 in c:\\users\\yashc\\anaconda3\\envs\\gputest\\lib\\site-packages (from requests>=2.19.0->pandas_datareader) (2.1.0)\n",
      "Requirement already satisfied: urllib3<1.27,>=1.21.1 in c:\\users\\yashc\\anaconda3\\envs\\gputest\\lib\\site-packages (from requests>=2.19.0->pandas_datareader) (1.26.11)\n",
      "Requirement already satisfied: idna<4,>=2.5 in c:\\users\\yashc\\anaconda3\\envs\\gputest\\lib\\site-packages (from requests>=2.19.0->pandas_datareader) (3.3)\n",
      "Requirement already satisfied: six>=1.5 in c:\\users\\yashc\\anaconda3\\envs\\gputest\\lib\\site-packages (from python-dateutil>=2.8.1->pandas>=0.23->pandas_datareader) (1.16.0)\n"
     ]
    }
   ],
   "source": [
    "pip install pandas_datareader"
   ]
  },
  {
   "cell_type": "code",
   "execution_count": 2,
   "id": "2bf81748",
   "metadata": {
    "collapsed": true
   },
   "outputs": [],
   "source": [
    "key = '94188f30c93af2e966d88eff1f059121107472ad'"
   ]
  },
  {
   "cell_type": "code",
   "execution_count": 3,
   "id": "b213fb9c",
   "metadata": {
    "collapsed": true
   },
   "outputs": [],
   "source": [
    "## Data Collection\n",
    "import pandas_datareader as pdr"
   ]
  },
  {
   "cell_type": "code",
   "execution_count": 4,
   "id": "5e91a363",
   "metadata": {},
   "outputs": [
    {
     "name": "stderr",
     "output_type": "stream",
     "text": [
      "C:\\Users\\yashc\\anaconda3\\envs\\gputest\\lib\\site-packages\\pandas_datareader\\tiingo.py:234: FutureWarning: In a future version of pandas all arguments of concat except for the argument 'objs' will be keyword-only.\n",
      "  return pd.concat(dfs, self._concat_axis)\n"
     ]
    }
   ],
   "source": [
    "df = pdr.get_data_tiingo('AAPL', api_key = key)"
   ]
  },
  {
   "cell_type": "code",
   "execution_count": 5,
   "id": "f4037db2",
   "metadata": {
    "collapsed": true
   },
   "outputs": [],
   "source": [
    "df.to_csv('AAPL.csv')"
   ]
  },
  {
   "cell_type": "code",
   "execution_count": 6,
   "id": "06ffe8cf",
   "metadata": {
    "collapsed": true
   },
   "outputs": [],
   "source": [
    "import pandas as pd"
   ]
  },
  {
   "cell_type": "code",
   "execution_count": 7,
   "id": "9ac8755b",
   "metadata": {
    "collapsed": true
   },
   "outputs": [],
   "source": [
    "df = pd.read_csv('AAPL.csv')"
   ]
  },
  {
   "cell_type": "code",
   "execution_count": 8,
   "id": "e3782135",
   "metadata": {},
   "outputs": [
    {
     "data": {
      "text/html": [
       "<div>\n",
       "<style scoped>\n",
       "    .dataframe tbody tr th:only-of-type {\n",
       "        vertical-align: middle;\n",
       "    }\n",
       "\n",
       "    .dataframe tbody tr th {\n",
       "        vertical-align: top;\n",
       "    }\n",
       "\n",
       "    .dataframe thead th {\n",
       "        text-align: right;\n",
       "    }\n",
       "</style>\n",
       "<table border=\"1\" class=\"dataframe\">\n",
       "  <thead>\n",
       "    <tr style=\"text-align: right;\">\n",
       "      <th></th>\n",
       "      <th>symbol</th>\n",
       "      <th>date</th>\n",
       "      <th>close</th>\n",
       "      <th>high</th>\n",
       "      <th>low</th>\n",
       "      <th>open</th>\n",
       "      <th>volume</th>\n",
       "      <th>adjClose</th>\n",
       "      <th>adjHigh</th>\n",
       "      <th>adjLow</th>\n",
       "      <th>adjOpen</th>\n",
       "      <th>adjVolume</th>\n",
       "      <th>divCash</th>\n",
       "      <th>splitFactor</th>\n",
       "    </tr>\n",
       "  </thead>\n",
       "  <tbody>\n",
       "    <tr>\n",
       "      <th>0</th>\n",
       "      <td>AAPL</td>\n",
       "      <td>2017-08-16 00:00:00+00:00</td>\n",
       "      <td>160.95</td>\n",
       "      <td>162.51</td>\n",
       "      <td>160.1500</td>\n",
       "      <td>161.94</td>\n",
       "      <td>27321761</td>\n",
       "      <td>38.185926</td>\n",
       "      <td>38.556041</td>\n",
       "      <td>37.996123</td>\n",
       "      <td>38.420806</td>\n",
       "      <td>109287044</td>\n",
       "      <td>0.0</td>\n",
       "      <td>1.0</td>\n",
       "    </tr>\n",
       "    <tr>\n",
       "      <th>1</th>\n",
       "      <td>AAPL</td>\n",
       "      <td>2017-08-17 00:00:00+00:00</td>\n",
       "      <td>157.86</td>\n",
       "      <td>160.71</td>\n",
       "      <td>157.8400</td>\n",
       "      <td>160.52</td>\n",
       "      <td>26925694</td>\n",
       "      <td>37.452813</td>\n",
       "      <td>38.128985</td>\n",
       "      <td>37.448068</td>\n",
       "      <td>38.083907</td>\n",
       "      <td>107702776</td>\n",
       "      <td>0.0</td>\n",
       "      <td>1.0</td>\n",
       "    </tr>\n",
       "    <tr>\n",
       "      <th>2</th>\n",
       "      <td>AAPL</td>\n",
       "      <td>2017-08-18 00:00:00+00:00</td>\n",
       "      <td>157.50</td>\n",
       "      <td>159.50</td>\n",
       "      <td>156.7200</td>\n",
       "      <td>157.86</td>\n",
       "      <td>27012525</td>\n",
       "      <td>37.367402</td>\n",
       "      <td>37.841908</td>\n",
       "      <td>37.182344</td>\n",
       "      <td>37.452813</td>\n",
       "      <td>108050100</td>\n",
       "      <td>0.0</td>\n",
       "      <td>1.0</td>\n",
       "    </tr>\n",
       "    <tr>\n",
       "      <th>3</th>\n",
       "      <td>AAPL</td>\n",
       "      <td>2017-08-21 00:00:00+00:00</td>\n",
       "      <td>157.21</td>\n",
       "      <td>157.89</td>\n",
       "      <td>155.1101</td>\n",
       "      <td>157.50</td>\n",
       "      <td>26145653</td>\n",
       "      <td>37.298598</td>\n",
       "      <td>37.459930</td>\n",
       "      <td>36.800390</td>\n",
       "      <td>37.367402</td>\n",
       "      <td>104582612</td>\n",
       "      <td>0.0</td>\n",
       "      <td>1.0</td>\n",
       "    </tr>\n",
       "    <tr>\n",
       "      <th>4</th>\n",
       "      <td>AAPL</td>\n",
       "      <td>2017-08-22 00:00:00+00:00</td>\n",
       "      <td>159.78</td>\n",
       "      <td>160.00</td>\n",
       "      <td>158.0200</td>\n",
       "      <td>158.23</td>\n",
       "      <td>21297812</td>\n",
       "      <td>37.908339</td>\n",
       "      <td>37.960535</td>\n",
       "      <td>37.490773</td>\n",
       "      <td>37.540596</td>\n",
       "      <td>85191248</td>\n",
       "      <td>0.0</td>\n",
       "      <td>1.0</td>\n",
       "    </tr>\n",
       "  </tbody>\n",
       "</table>\n",
       "</div>"
      ],
      "text/plain": [
       "  symbol                       date   close    high       low    open  \\\n",
       "0   AAPL  2017-08-16 00:00:00+00:00  160.95  162.51  160.1500  161.94   \n",
       "1   AAPL  2017-08-17 00:00:00+00:00  157.86  160.71  157.8400  160.52   \n",
       "2   AAPL  2017-08-18 00:00:00+00:00  157.50  159.50  156.7200  157.86   \n",
       "3   AAPL  2017-08-21 00:00:00+00:00  157.21  157.89  155.1101  157.50   \n",
       "4   AAPL  2017-08-22 00:00:00+00:00  159.78  160.00  158.0200  158.23   \n",
       "\n",
       "     volume   adjClose    adjHigh     adjLow    adjOpen  adjVolume  divCash  \\\n",
       "0  27321761  38.185926  38.556041  37.996123  38.420806  109287044      0.0   \n",
       "1  26925694  37.452813  38.128985  37.448068  38.083907  107702776      0.0   \n",
       "2  27012525  37.367402  37.841908  37.182344  37.452813  108050100      0.0   \n",
       "3  26145653  37.298598  37.459930  36.800390  37.367402  104582612      0.0   \n",
       "4  21297812  37.908339  37.960535  37.490773  37.540596   85191248      0.0   \n",
       "\n",
       "   splitFactor  \n",
       "0          1.0  \n",
       "1          1.0  \n",
       "2          1.0  \n",
       "3          1.0  \n",
       "4          1.0  "
      ]
     },
     "execution_count": 8,
     "metadata": {},
     "output_type": "execute_result"
    }
   ],
   "source": [
    "df.head()"
   ]
  },
  {
   "cell_type": "code",
   "execution_count": 9,
   "id": "f58ecaea",
   "metadata": {
    "collapsed": true
   },
   "outputs": [],
   "source": [
    "df1 = df.reset_index()['close']"
   ]
  },
  {
   "cell_type": "code",
   "execution_count": 10,
   "id": "1ce0554f",
   "metadata": {},
   "outputs": [
    {
     "data": {
      "text/plain": [
       "0       160.95\n",
       "1       157.86\n",
       "2       157.50\n",
       "3       157.21\n",
       "4       159.78\n",
       "         ...  \n",
       "1252    164.87\n",
       "1253    164.92\n",
       "1254    169.24\n",
       "1255    168.49\n",
       "1256    172.10\n",
       "Name: close, Length: 1257, dtype: float64"
      ]
     },
     "execution_count": 10,
     "metadata": {},
     "output_type": "execute_result"
    }
   ],
   "source": [
    "df1"
   ]
  },
  {
   "cell_type": "code",
   "execution_count": 11,
   "id": "803ee4f0",
   "metadata": {},
   "outputs": [
    {
     "data": {
      "text/plain": [
       "[<matplotlib.lines.Line2D at 0x2e8ccad3100>]"
      ]
     },
     "execution_count": 11,
     "metadata": {},
     "output_type": "execute_result"
    },
    {
     "data": {
      "image/png": "[encoded data removed]",
      "text/plain": [
       "<Figure size 432x288 with 1 Axes>"
      ]
     },
     "metadata": {
      "needs_background": "light"
     },
     "output_type": "display_data"
    }
   ],
   "source": [
    "import matplotlib.pyplot as plt\n",
    "plt.plot(df1)"
   ]
  },
  {
   "cell_type": "code",
   "execution_count": 12,
   "id": "d7231a2d",
   "metadata": {
    "collapsed": true
   },
   "outputs": [],
   "source": [
    "## LSTM are sensitive to the scale of the data. so we apply MinMax Scaler"
   ]
  },
  {
   "cell_type": "code",
   "execution_count": 13,
   "id": "55279bb7",
   "metadata": {
    "collapsed": true
   },
   "outputs": [],
   "source": [
    "import numpy  as np"
   ]
  },
  {
   "cell_type": "code",
   "execution_count": 14,
   "id": "909736e8",
   "metadata": {
    "collapsed": true
   },
   "outputs": [],
   "source": [
    "from sklearn.preprocessing import MinMaxScaler\n",
    "scaler=MinMaxScaler(feature_range=(0,1))\n",
    "df1=scaler.fit_transform(np.array(df1).reshape(-1,1))"
   ]
  },
  {
   "cell_type": "code",
   "execution_count": 15,
   "id": "daeaa870",
   "metadata": {},
   "outputs": [
    {
     "data": {
      "text/plain": [
       "array([[0.13552912],\n",
       "       [0.12778961],\n",
       "       [0.12688791],\n",
       "       ...,\n",
       "       [0.15629305],\n",
       "       [0.15441453],\n",
       "       [0.16345648]])"
      ]
     },
     "execution_count": 15,
     "metadata": {},
     "output_type": "execute_result"
    }
   ],
   "source": [
    "df1"
   ]
  },
  {
   "cell_type": "code",
   "execution_count": 16,
   "id": "782beb32",
   "metadata": {
    "collapsed": true
   },
   "outputs": [],
   "source": [
    "##splitting dataset into train and test split\n",
    "training_size=int(len(df1)*0.65)\n",
    "test_size=len(df1)-training_size\n",
    "train_data,test_data=df1[0:training_size,:],df1[training_size:len(df1),:1]"
   ]
  },
  {
   "cell_type": "code",
   "execution_count": 17,
   "id": "0cd70a1a",
   "metadata": {},
   "outputs": [
    {
     "data": {
      "text/plain": [
       "(817, 440)"
      ]
     },
     "execution_count": 17,
     "metadata": {},
     "output_type": "execute_result"
    }
   ],
   "source": [
    "training_size,test_size"
   ]
  },
  {
   "cell_type": "code",
   "execution_count": 18,
   "id": "0c26efd1",
   "metadata": {
    "collapsed": true
   },
   "outputs": [],
   "source": [
    "#Converting into dependent and independent feature based on timestamp\n",
    "#Data                                  testData\n",
    "#120,130,125,140,134,150                    160,190,154,160,170\n",
    "\n",
    "#timesteps=3\n",
    "# X_train    X_test                       Y_train\n",
    "#f1  f2  f3  o/p                           f1  f2  f3  o/p(Y_test)\n",
    "#120 130 125 140                          160 190 154  160\n",
    "#130 125 140 134                          190 154 160  170"
   ]
  },
  {
   "cell_type": "code",
   "execution_count": 19,
   "id": "fbc5828c",
   "metadata": {
    "collapsed": true
   },
   "outputs": [],
   "source": [
    "import numpy\n",
    "# convert an array of values into a dataset matrix\n",
    "def create_dataset(dataset, time_step=1):\n",
    "\tdataX, dataY = [], []\n",
    "\tfor i in range(len(dataset)-time_step-1):\n",
    "\t\ta = dataset[i:(i+time_step), 0]   ###i=0, 0,1,2,3-----99   100 \n",
    "\t\tdataX.append(a)\n",
    "\t\tdataY.append(dataset[i + time_step, 0])\n",
    "\treturn numpy.array(dataX), numpy.array(dataY)"
   ]
  },
  {
   "cell_type": "code",
   "execution_count": 20,
   "id": "a03c620b",
   "metadata": {
    "collapsed": true
   },
   "outputs": [],
   "source": [
    "# reshape into X=t,t+1,t+2,t+3 and Y=t+4\n",
    "time_step = 100\n",
    "X_train, Y_train = create_dataset(train_data, time_step)\n",
    "X_test, Y_test = create_dataset(test_data, time_step)"
   ]
  },
  {
   "cell_type": "code",
   "execution_count": 21,
   "id": "4b4338c4",
   "metadata": {},
   "outputs": [
    {
     "name": "stdout",
     "output_type": "stream",
     "text": [
      "(716, 100)\n",
      "(716,)\n"
     ]
    },
    {
     "data": {
      "text/plain": [
       "(None, None)"
      ]
     },
     "execution_count": 21,
     "metadata": {},
     "output_type": "execute_result"
    }
   ],
   "source": [
    "print(X_train.shape), print(Y_train.shape)"
   ]
  },
  {
   "cell_type": "code",
   "execution_count": 22,
   "id": "e9143a9f",
   "metadata": {},
   "outputs": [
    {
     "name": "stdout",
     "output_type": "stream",
     "text": [
      "(339, 100)\n",
      "(339,)\n"
     ]
    },
    {
     "data": {
      "text/plain": [
       "(None, None)"
      ]
     },
     "execution_count": 22,
     "metadata": {},
     "output_type": "execute_result"
    }
   ],
   "source": [
    "print(X_test.shape), print(Y_test.shape)"
   ]
  },
  {
   "cell_type": "code",
   "execution_count": 23,
   "id": "3a13c633",
   "metadata": {
    "collapsed": true
   },
   "outputs": [],
   "source": [
    "# reshape input to be [samples, time steps, features] which is required for LSTM\n",
    "X_train =X_train.reshape(X_train.shape[0],X_train.shape[1] , 1)\n",
    "X_test = X_test.reshape(X_test.shape[0],X_test.shape[1] , 1)"
   ]
  },
  {
   "cell_type": "code",
   "execution_count": 24,
   "id": "c1214120",
   "metadata": {
    "collapsed": true
   },
   "outputs": [],
   "source": [
    "### Create the Stacked LSTM model\n",
    "from tensorflow.keras.models import Sequential\n",
    "from tensorflow.keras.layers import Dense\n",
    "from tensorflow.keras.layers import LSTM"
   ]
  },
  {
   "cell_type": "code",
   "execution_count": 25,
   "id": "2a62e692",
   "metadata": {
    "collapsed": true
   },
   "outputs": [],
   "source": [
    "model=Sequential()\n",
    "model.add(LSTM(50,return_sequences=True,input_shape=(100,1)))\n",
    "model.add(LSTM(50,return_sequences=True))\n",
    "model.add(LSTM(50))\n",
    "model.add(Dense(1))\n",
    "model.compile(loss='mean_squared_error',optimizer='adam')"
   ]
  },
  {
   "cell_type": "code",
   "execution_count": 26,
   "id": "a52be2c1",
   "metadata": {},
   "outputs": [
    {
     "name": "stdout",
     "output_type": "stream",
     "text": [
      "Model: \"sequential\"\n",
      "_________________________________________________________________\n",
      " Layer (type)                Output Shape              Param #   \n",
      "=================================================================\n",
      " lstm (LSTM)                 (None, 100, 50)           10400     \n",
      "                                                                 \n",
      " lstm_1 (LSTM)               (None, 100, 50)           20200     \n",
      "                                                                 \n",
      " lstm_2 (LSTM)               (None, 50)                20200     \n",
      "                                                                 \n",
      " dense (Dense)               (None, 1)                 51        \n",
      "                                                                 \n",
      "=================================================================\n",
      "Total params: 50,851\n",
      "Trainable params: 50,851\n",
      "Non-trainable params: 0\n",
      "_________________________________________________________________\n"
     ]
    }
   ],
   "source": [
    "model.summary()"
   ]
  },
  {
   "cell_type": "code",
   "execution_count": 29,
   "id": "893670c6",
   "metadata": {},
   "outputs": [
    {
     "name": "stdout",
     "output_type": "stream",
     "text": [
      "Epoch 1/100\n",
      "12/12 [==============================] - 68s 1s/step - loss: 0.0429 - val_loss: 0.0029\n",
      "Epoch 2/100\n",
      "12/12 [==============================] - 5s 408ms/step - loss: 0.0141 - val_loss: 0.0025\n",
      "Epoch 3/100\n",
      "12/12 [==============================] - 4s 303ms/step - loss: 0.0104 - val_loss: 3.3243e-04\n",
      "Epoch 4/100\n",
      "12/12 [==============================] - 4s 343ms/step - loss: 0.0091 - val_loss: 3.6478e-04\n",
      "Epoch 5/100\n",
      "12/12 [==============================] - 5s 445ms/step - loss: 0.0098 - val_loss: 0.0018\n",
      "Epoch 6/100\n",
      "12/12 [==============================] - 4s 355ms/step - loss: 0.0083 - val_loss: 5.8772e-04\n",
      "Epoch 7/100\n",
      "12/12 [==============================] - 6s 504ms/step - loss: 0.0066 - val_loss: 4.6649e-04\n",
      "Epoch 8/100\n",
      "12/12 [==============================] - 4s 361ms/step - loss: 0.0078 - val_loss: 9.2371e-04\n",
      "Epoch 9/100\n",
      "12/12 [==============================] - 5s 374ms/step - loss: 0.0069 - val_loss: 3.3809e-04\n",
      "Epoch 10/100\n",
      "12/12 [==============================] - 4s 323ms/step - loss: 0.0054 - val_loss: 3.9585e-04\n",
      "Epoch 11/100\n",
      "12/12 [==============================] - 5s 416ms/step - loss: 0.0056 - val_loss: 3.7454e-04\n",
      "Epoch 12/100\n",
      "12/12 [==============================] - 4s 348ms/step - loss: 0.0042 - val_loss: 4.3389e-04\n",
      "Epoch 13/100\n",
      "12/12 [==============================] - 6s 534ms/step - loss: 0.0038 - val_loss: 0.0012\n",
      "Epoch 14/100\n",
      "12/12 [==============================] - 6s 537ms/step - loss: 0.0041 - val_loss: 6.5839e-04\n",
      "Epoch 15/100\n",
      "12/12 [==============================] - 6s 505ms/step - loss: 0.0032 - val_loss: 4.9948e-04\n",
      "Epoch 16/100\n",
      "12/12 [==============================] - 5s 390ms/step - loss: 0.0034 - val_loss: 4.6003e-04\n",
      "Epoch 17/100\n",
      "12/12 [==============================] - 5s 425ms/step - loss: 0.0037 - val_loss: 3.2409e-04\n",
      "Epoch 18/100\n",
      "12/12 [==============================] - 6s 478ms/step - loss: 0.0028 - val_loss: 3.6076e-04\n",
      "Epoch 19/100\n",
      "12/12 [==============================] - 4s 349ms/step - loss: 0.0023 - val_loss: 4.2238e-04\n",
      "Epoch 20/100\n",
      "12/12 [==============================] - 4s 298ms/step - loss: 0.0026 - val_loss: 2.8130e-04\n",
      "Epoch 21/100\n",
      "12/12 [==============================] - 6s 482ms/step - loss: 0.0025 - val_loss: 2.5523e-04\n",
      "Epoch 22/100\n",
      "12/12 [==============================] - 6s 480ms/step - loss: 0.0029 - val_loss: 5.2472e-04\n",
      "Epoch 23/100\n",
      "12/12 [==============================] - 5s 417ms/step - loss: 0.0037 - val_loss: 3.8962e-04\n",
      "Epoch 24/100\n",
      "12/12 [==============================] - 4s 341ms/step - loss: 0.0034 - val_loss: 2.6669e-04\n",
      "Epoch 25/100\n",
      "12/12 [==============================] - 5s 434ms/step - loss: 0.0023 - val_loss: 2.6354e-04\n",
      "Epoch 26/100\n",
      "12/12 [==============================] - 4s 347ms/step - loss: 0.0026 - val_loss: 3.2098e-04\n",
      "Epoch 27/100\n",
      "12/12 [==============================] - 5s 401ms/step - loss: 0.0021 - val_loss: 2.1613e-04\n",
      "Epoch 28/100\n",
      "12/12 [==============================] - 5s 373ms/step - loss: 0.0019 - val_loss: 2.3794e-04\n",
      "Epoch 29/100\n",
      "12/12 [==============================] - 5s 403ms/step - loss: 0.0019 - val_loss: 2.3428e-04\n",
      "Epoch 30/100\n",
      "12/12 [==============================] - 5s 455ms/step - loss: 0.0020 - val_loss: 2.5399e-04\n",
      "Epoch 31/100\n",
      "12/12 [==============================] - 4s 328ms/step - loss: 0.0020 - val_loss: 3.6102e-04\n",
      "Epoch 32/100\n",
      "12/12 [==============================] - 4s 369ms/step - loss: 0.0022 - val_loss: 2.3089e-04\n",
      "Epoch 33/100\n",
      "12/12 [==============================] - 4s 287ms/step - loss: 0.0019 - val_loss: 3.2569e-04\n",
      "Epoch 34/100\n",
      "12/12 [==============================] - 4s 364ms/step - loss: 0.0019 - val_loss: 2.2907e-04\n",
      "Epoch 35/100\n",
      "12/12 [==============================] - 4s 293ms/step - loss: 0.0016 - val_loss: 2.3033e-04\n",
      "Epoch 36/100\n",
      "12/12 [==============================] - 4s 372ms/step - loss: 0.0020 - val_loss: 2.1401e-04\n",
      "Epoch 37/100\n",
      "12/12 [==============================] - 4s 290ms/step - loss: 0.0027 - val_loss: 2.9697e-04\n",
      "Epoch 38/100\n",
      "12/12 [==============================] - 4s 301ms/step - loss: 0.0028 - val_loss: 5.2526e-04\n",
      "Epoch 39/100\n",
      "12/12 [==============================] - 4s 313ms/step - loss: 0.0024 - val_loss: 2.8192e-04\n",
      "Epoch 40/100\n",
      "12/12 [==============================] - 4s 351ms/step - loss: 0.0031 - val_loss: 4.4901e-04\n",
      "Epoch 41/100\n",
      "12/12 [==============================] - 4s 368ms/step - loss: 0.0027 - val_loss: 2.9288e-04\n",
      "Epoch 42/100\n",
      "12/12 [==============================] - 4s 293ms/step - loss: 0.0021 - val_loss: 2.1977e-04\n",
      "Epoch 43/100\n",
      "12/12 [==============================] - 4s 352ms/step - loss: 0.0023 - val_loss: 2.4263e-04\n",
      "Epoch 44/100\n",
      "12/12 [==============================] - 3s 284ms/step - loss: 0.0017 - val_loss: 3.4946e-04\n",
      "Epoch 45/100\n",
      "12/12 [==============================] - 4s 330ms/step - loss: 0.0016 - val_loss: 2.1307e-04\n",
      "Epoch 46/100\n",
      "12/12 [==============================] - 4s 305ms/step - loss: 0.0020 - val_loss: 2.2712e-04\n",
      "Epoch 47/100\n",
      "12/12 [==============================] - 4s 378ms/step - loss: 0.0023 - val_loss: 2.1661e-04\n",
      "Epoch 48/100\n",
      "12/12 [==============================] - 4s 292ms/step - loss: 0.0018 - val_loss: 2.1899e-04\n",
      "Epoch 49/100\n",
      "12/12 [==============================] - 4s 371ms/step - loss: 0.0021 - val_loss: 2.1757e-04\n",
      "Epoch 50/100\n",
      "12/12 [==============================] - 4s 296ms/step - loss: 0.0018 - val_loss: 3.1806e-04\n",
      "Epoch 51/100\n",
      "12/12 [==============================] - 4s 315ms/step - loss: 0.0018 - val_loss: 2.2512e-04\n",
      "Epoch 52/100\n",
      "12/12 [==============================] - 4s 287ms/step - loss: 0.0020 - val_loss: 4.4379e-04\n",
      "Epoch 53/100\n",
      "12/12 [==============================] - 4s 341ms/step - loss: 0.0018 - val_loss: 2.3733e-04\n",
      "Epoch 54/100\n",
      "12/12 [==============================] - 4s 305ms/step - loss: 0.0019 - val_loss: 2.2434e-04\n",
      "Epoch 55/100\n",
      "12/12 [==============================] - 5s 455ms/step - loss: 0.0022 - val_loss: 2.8227e-04\n",
      "Epoch 56/100\n",
      "12/12 [==============================] - 5s 460ms/step - loss: 0.0014 - val_loss: 2.1785e-04\n",
      "Epoch 57/100\n",
      "12/12 [==============================] - 5s 407ms/step - loss: 0.0017 - val_loss: 3.2043e-04\n",
      "Epoch 58/100\n",
      "12/12 [==============================] - 5s 414ms/step - loss: 0.0016 - val_loss: 2.1544e-04\n",
      "Epoch 59/100\n",
      "12/12 [==============================] - 4s 369ms/step - loss: 0.0014 - val_loss: 2.2112e-04\n",
      "Epoch 60/100\n",
      "12/12 [==============================] - 5s 390ms/step - loss: 0.0017 - val_loss: 2.8871e-04\n",
      "Epoch 61/100\n",
      "12/12 [==============================] - 4s 344ms/step - loss: 0.0019 - val_loss: 2.1493e-04\n",
      "Epoch 62/100\n",
      "12/12 [==============================] - 5s 427ms/step - loss: 0.0050 - val_loss: 8.3063e-04\n",
      "Epoch 63/100\n",
      "12/12 [==============================] - 6s 473ms/step - loss: 0.0050 - val_loss: 6.6765e-04\n",
      "Epoch 64/100\n",
      "12/12 [==============================] - 6s 473ms/step - loss: 0.0039 - val_loss: 6.9739e-04\n",
      "Epoch 65/100\n",
      "12/12 [==============================] - 4s 347ms/step - loss: 0.0022 - val_loss: 3.7792e-04\n",
      "Epoch 66/100\n",
      "12/12 [==============================] - 4s 340ms/step - loss: 0.0023 - val_loss: 3.9026e-04\n",
      "Epoch 67/100\n",
      "12/12 [==============================] - 6s 470ms/step - loss: 0.0019 - val_loss: 2.0421e-04\n",
      "Epoch 68/100\n",
      "12/12 [==============================] - 5s 397ms/step - loss: 0.0022 - val_loss: 2.5063e-04\n",
      "Epoch 69/100\n",
      "12/12 [==============================] - 4s 344ms/step - loss: 0.0020 - val_loss: 2.0949e-04\n",
      "Epoch 70/100\n",
      "12/12 [==============================] - 5s 432ms/step - loss: 0.0015 - val_loss: 2.4704e-04\n",
      "Epoch 71/100\n",
      "12/12 [==============================] - 6s 515ms/step - loss: 0.0015 - val_loss: 2.0455e-04\n",
      "Epoch 72/100\n",
      "12/12 [==============================] - 5s 422ms/step - loss: 0.0015 - val_loss: 2.0697e-04\n",
      "Epoch 73/100\n",
      "12/12 [==============================] - 4s 383ms/step - loss: 0.0013 - val_loss: 2.6236e-04\n",
      "Epoch 74/100\n",
      "12/12 [==============================] - 5s 423ms/step - loss: 0.0013 - val_loss: 2.0223e-04\n",
      "Epoch 75/100\n",
      "12/12 [==============================] - 5s 380ms/step - loss: 0.0015 - val_loss: 2.6768e-04\n",
      "Epoch 76/100\n",
      "12/12 [==============================] - 4s 354ms/step - loss: 0.0016 - val_loss: 3.4633e-04\n",
      "Epoch 77/100\n",
      "12/12 [==============================] - 4s 357ms/step - loss: 0.0028 - val_loss: 2.2561e-04\n",
      "Epoch 78/100\n",
      "12/12 [==============================] - 4s 380ms/step - loss: 0.0032 - val_loss: 2.3996e-04\n",
      "Epoch 79/100\n",
      "12/12 [==============================] - 6s 509ms/step - loss: 0.0029 - val_loss: 2.2619e-04\n",
      "Epoch 80/100\n",
      "12/12 [==============================] - 4s 352ms/step - loss: 0.0021 - val_loss: 5.0348e-04\n",
      "Epoch 81/100\n",
      "12/12 [==============================] - 4s 360ms/step - loss: 0.0018 - val_loss: 2.0269e-04\n",
      "Epoch 82/100\n",
      "12/12 [==============================] - 4s 316ms/step - loss: 0.0015 - val_loss: 1.9822e-04\n",
      "Epoch 83/100\n",
      "12/12 [==============================] - 4s 315ms/step - loss: 0.0013 - val_loss: 2.0253e-04\n",
      "Epoch 84/100\n",
      "12/12 [==============================] - 4s 373ms/step - loss: 0.0014 - val_loss: 2.0307e-04\n",
      "Epoch 85/100\n",
      "12/12 [==============================] - 6s 505ms/step - loss: 0.0012 - val_loss: 2.1242e-04\n",
      "Epoch 86/100\n",
      "12/12 [==============================] - 5s 414ms/step - loss: 0.0012 - val_loss: 2.0137e-04\n",
      "Epoch 87/100\n",
      "12/12 [==============================] - 5s 410ms/step - loss: 0.0022 - val_loss: 5.7990e-04\n",
      "Epoch 88/100\n",
      "12/12 [==============================] - 5s 410ms/step - loss: 0.0019 - val_loss: 2.0762e-04\n",
      "Epoch 89/100\n",
      "12/12 [==============================] - 4s 387ms/step - loss: 0.0016 - val_loss: 1.9605e-04\n",
      "Epoch 90/100\n",
      "12/12 [==============================] - 4s 342ms/step - loss: 0.0016 - val_loss: 2.3698e-04\n",
      "Epoch 91/100\n",
      "12/12 [==============================] - 5s 455ms/step - loss: 0.0014 - val_loss: 2.2281e-04\n",
      "Epoch 92/100\n",
      "12/12 [==============================] - 6s 461ms/step - loss: 0.0015 - val_loss: 2.1854e-04\n",
      "Epoch 93/100\n",
      "12/12 [==============================] - 4s 354ms/step - loss: 0.0038 - val_loss: 2.1658e-04\n",
      "Epoch 94/100\n",
      "12/12 [==============================] - 5s 422ms/step - loss: 0.0025 - val_loss: 2.2728e-04\n",
      "Epoch 95/100\n",
      "12/12 [==============================] - 5s 384ms/step - loss: 0.0020 - val_loss: 2.3169e-04\n",
      "Epoch 96/100\n",
      "12/12 [==============================] - 5s 458ms/step - loss: 0.0029 - val_loss: 8.1258e-04\n",
      "Epoch 97/100\n",
      "12/12 [==============================] - 5s 406ms/step - loss: 0.0041 - val_loss: 0.0010\n",
      "Epoch 98/100\n",
      "12/12 [==============================] - 6s 485ms/step - loss: 0.0053 - val_loss: 4.5241e-04\n",
      "Epoch 99/100\n",
      "12/12 [==============================] - 5s 410ms/step - loss: 0.0027 - val_loss: 1.9417e-04\n",
      "Epoch 100/100\n",
      "12/12 [==============================] - 4s 294ms/step - loss: 0.0025 - val_loss: 5.4197e-04\n"
     ]
    },
    {
     "data": {
      "text/plain": [
       "<keras.callbacks.History at 0x2e88651bd30>"
      ]
     },
     "execution_count": 29,
     "metadata": {},
     "output_type": "execute_result"
    }
   ],
   "source": [
    "model.fit(X_train,Y_train,validation_data=(X_test,Y_test),epochs=100,batch_size=64,verbose=1)"
   ]
  },
  {
   "cell_type": "code",
   "execution_count": 31,
   "id": "dff2f931",
   "metadata": {},
   "outputs": [],
   "source": [
    " import tensorflow as tf"
   ]
  },
  {
   "cell_type": "code",
   "execution_count": 32,
   "id": "448a0c21",
   "metadata": {},
   "outputs": [
    {
     "name": "stdout",
     "output_type": "stream",
     "text": [
      "23/23 [==============================] - 18s 167ms/step\n",
      "11/11 [==============================] - 2s 192ms/step\n"
     ]
    }
   ],
   "source": [
    "### Lets Do the prediction and check performance metrics\n",
    "train_predict=model.predict(X_train)\n",
    "test_predict=model.predict(X_test)"
   ]
  },
  {
   "cell_type": "code",
   "execution_count": 33,
   "id": "a759f110",
   "metadata": {},
   "outputs": [],
   "source": [
    "##Transformback to original form\n",
    "train_predict=scaler.inverse_transform(train_predict)\n",
    "test_predict=scaler.inverse_transform(test_predict)"
   ]
  },
  {
   "cell_type": "code",
   "execution_count": 35,
   "id": "a922f7d9",
   "metadata": {},
   "outputs": [
    {
     "data": {
      "text/plain": [
       "233.7822521123181"
      ]
     },
     "execution_count": 35,
     "metadata": {},
     "output_type": "execute_result"
    }
   ],
   "source": [
    "### Calculate RMSE performance metrics\n",
    "import math\n",
    "from sklearn.metrics import mean_squared_error\n",
    "math.sqrt(mean_squared_error(Y_train,train_predict))"
   ]
  },
  {
   "cell_type": "code",
   "execution_count": 37,
   "id": "3800d67b",
   "metadata": {},
   "outputs": [
    {
     "data": {
      "text/plain": [
       "159.30544491149345"
      ]
     },
     "execution_count": 37,
     "metadata": {},
     "output_type": "execute_result"
    }
   ],
   "source": [
    "### Test Data RMSE\n",
    "math.sqrt(mean_squared_error(Y_test,test_predict))"
   ]
  },
  {
   "cell_type": "code",
   "execution_count": 38,
   "id": "a3f7ff03",
   "metadata": {},
   "outputs": [
    {
     "data": {
      "image/png": "[encoded data removed]",
      "text/plain": [
       "<Figure size 432x288 with 1 Axes>"
      ]
     },
     "metadata": {
      "needs_background": "light"
     },
     "output_type": "display_data"
    }
   ],
   "source": [
    "### Plotting \n",
    "# shift train predictions for plotting\n",
    "look_back=100\n",
    "trainPredictPlot = numpy.empty_like(df1)\n",
    "trainPredictPlot[:, :] = np.nan\n",
    "trainPredictPlot[look_back:len(train_predict)+look_back, :] = train_predict\n",
    "# shift test predictions for plotting\n",
    "testPredictPlot = numpy.empty_like(df1)\n",
    "testPredictPlot[:, :] = numpy.nan\n",
    "testPredictPlot[len(train_predict)+(look_back*2)+1:len(df1)-1, :] = test_predict\n",
    "# plot baseline and predictions\n",
    "plt.plot(scaler.inverse_transform(df1))\n",
    "plt.plot(trainPredictPlot)\n",
    "plt.plot(testPredictPlot)\n",
    "plt.show()"
   ]
  },
  {
   "cell_type": "code",
   "execution_count": 43,
   "id": "49b889f6",
   "metadata": {},
   "outputs": [],
   "source": [
    "## Predicting the output of next 30 days"
   ]
  },
  {
   "cell_type": "code",
   "execution_count": 39,
   "id": "83bb9deb",
   "metadata": {},
   "outputs": [
    {
     "data": {
      "text/plain": [
       "440"
      ]
     },
     "execution_count": 39,
     "metadata": {},
     "output_type": "execute_result"
    }
   ],
   "source": [
    "len(test_data)"
   ]
  },
  {
   "cell_type": "code",
   "execution_count": 48,
   "id": "14e8736d",
   "metadata": {},
   "outputs": [
    {
     "data": {
      "text/plain": [
       "(1, 100)"
      ]
     },
     "execution_count": 48,
     "metadata": {},
     "output_type": "execute_result"
    }
   ],
   "source": [
    "x_input=test_data[340:].reshape(1,-1)\n",
    "x_input.shape"
   ]
  },
  {
   "cell_type": "code",
   "execution_count": 49,
   "id": "adb11809",
   "metadata": {},
   "outputs": [],
   "source": [
    "temp_input=list(x_input)\n",
    "temp_input=temp_input[0].tolist()"
   ]
  },
  {
   "cell_type": "code",
   "execution_count": 50,
   "id": "0adfd5dd",
   "metadata": {},
   "outputs": [
    {
     "data": {
      "text/plain": [
       "[0.1552410770194113,\n",
       " 0.1587226048841578,\n",
       " 0.16839073262366933,\n",
       " 0.17001878522229175,\n",
       " 0.17222291797119593,\n",
       " 0.18063869755792106,\n",
       " 0.1776581089542893,\n",
       " 0.16974326862867878,\n",
       " 0.16899185973700687,\n",
       " 0.1793362554790231,\n",
       " 0.17087038196618654,\n",
       " 0.16278021289918598,\n",
       " 0.1635566687539135,\n",
       " 0.158422041327489,\n",
       " 0.14755165936130238,\n",
       " 0.1523356293049467,\n",
       " 0.15919849718221663,\n",
       " 0.14639949906073885,\n",
       " 0.1458484658735128,\n",
       " 0.15168440826549778,\n",
       " 0.15125860989355033,\n",
       " 0.14922980588603624,\n",
       " 0.13763306199123349,\n",
       " 0.140363180964308,\n",
       " 0.1251346274264245,\n",
       " 0.12455854727614268,\n",
       " 0.14226675015654344,\n",
       " 0.12726361928616153,\n",
       " 0.12804007514088916,\n",
       " 0.13184721352536,\n",
       " 0.14822792736380713,\n",
       " 0.12505948653725735,\n",
       " 0.12633688165309953,\n",
       " 0.11326236693800873,\n",
       " 0.11939887288666245,\n",
       " 0.09933625547902314,\n",
       " 0.08946775203506574,\n",
       " 0.10086412022542268,\n",
       " 0.09693174702567309,\n",
       " 0.10619912335629306,\n",
       " 0.08510958046336875,\n",
       " 0.0764182842830306,\n",
       " 0.07701941139636814,\n",
       " 0.09084533500313086,\n",
       " 0.08395742016280527,\n",
       " 0.0843581715716969,\n",
       " 0.09252348152786471,\n",
       " 0.10720100187852216,\n",
       " 0.10519724483406384,\n",
       " 0.10487163431433938,\n",
       " 0.11113337507827176,\n",
       " 0.09653099561678141,\n",
       " 0.09843456480901686,\n",
       " 0.10487163431433938,\n",
       " 0.10299311208515965,\n",
       " 0.0896681277395115,\n",
       " 0.07586725109580456,\n",
       " 0.0627175954915466,\n",
       " 0.06492172824045078,\n",
       " 0.07160926737633061,\n",
       " 0.05815904821540385,\n",
       " 0.061916092673763246,\n",
       " 0.0727113337507827,\n",
       " 0.07140889167188474,\n",
       " 0.07872260488415778,\n",
       " 0.08721352536005006,\n",
       " 0.08721352536005006,\n",
       " 0.07664370695053219,\n",
       " 0.08112711333750777,\n",
       " 0.07484032561051968,\n",
       " 0.08037570444583592,\n",
       " 0.08696305572949276,\n",
       " 0.09036944270507191,\n",
       " 0.09896055103318718,\n",
       " 0.10068879148403248,\n",
       " 0.09525360050093923,\n",
       " 0.0977332498434565,\n",
       " 0.09680651221039449,\n",
       " 0.10427050720100184,\n",
       " 0.10852849092047584,\n",
       " 0.1007639323731997,\n",
       " 0.11060738885410137,\n",
       " 0.11571696931747022,\n",
       " 0.12150281778334371,\n",
       " 0.1183469004383218,\n",
       " 0.11549154664996863,\n",
       " 0.11211020663744514,\n",
       " 0.12510958046336873,\n",
       " 0.12651221039448962,\n",
       " 0.139436443331246,\n",
       " 0.13693174702567307,\n",
       " 0.13317470256731367,\n",
       " 0.1485034439574201,\n",
       " 0.1477019411396368,\n",
       " 0.14654978083907322,\n",
       " 0.1453475266123982,\n",
       " 0.14547276142767684,\n",
       " 0.15629304946775202,\n",
       " 0.1544145272385723,\n",
       " 0.16345648090169063]"
      ]
     },
     "execution_count": 50,
     "metadata": {},
     "output_type": "execute_result"
    }
   ],
   "source": [
    "temp_input"
   ]
  },
  {
   "cell_type": "code",
   "execution_count": 51,
   "id": "2ab74f97",
   "metadata": {},
   "outputs": [
    {
     "name": "stdout",
     "output_type": "stream",
     "text": [
      "[0.16319653]\n",
      "101\n",
      "1 day input [0.1587226  0.16839073 0.17001879 0.17222292 0.1806387  0.17765811\n",
      " 0.16974327 0.16899186 0.17933626 0.17087038 0.16278021 0.16355667\n",
      " 0.15842204 0.14755166 0.15233563 0.1591985  0.1463995  0.14584847\n",
      " 0.15168441 0.15125861 0.14922981 0.13763306 0.14036318 0.12513463\n",
      " 0.12455855 0.14226675 0.12726362 0.12804008 0.13184721 0.14822793\n",
      " 0.12505949 0.12633688 0.11326237 0.11939887 0.09933626 0.08946775\n",
      " 0.10086412 0.09693175 0.10619912 0.08510958 0.07641828 0.07701941\n",
      " 0.09084534 0.08395742 0.08435817 0.09252348 0.107201   0.10519724\n",
      " 0.10487163 0.11113338 0.096531   0.09843456 0.10487163 0.10299311\n",
      " 0.08966813 0.07586725 0.0627176  0.06492173 0.07160927 0.05815905\n",
      " 0.06191609 0.07271133 0.07140889 0.0787226  0.08721353 0.08721353\n",
      " 0.07664371 0.08112711 0.07484033 0.0803757  0.08696306 0.09036944\n",
      " 0.09896055 0.10068879 0.0952536  0.09773325 0.09680651 0.10427051\n",
      " 0.10852849 0.10076393 0.11060739 0.11571697 0.12150282 0.1183469\n",
      " 0.11549155 0.11211021 0.12510958 0.12651221 0.13943644 0.13693175\n",
      " 0.1331747  0.14850344 0.14770194 0.14654978 0.14534753 0.14547276\n",
      " 0.15629305 0.15441453 0.16345648 0.16319653]\n",
      "1 day output [[0.16558789]]\n",
      "2 day input [0.16839073 0.17001879 0.17222292 0.1806387  0.17765811 0.16974327\n",
      " 0.16899186 0.17933626 0.17087038 0.16278021 0.16355667 0.15842204\n",
      " 0.14755166 0.15233563 0.1591985  0.1463995  0.14584847 0.15168441\n",
      " 0.15125861 0.14922981 0.13763306 0.14036318 0.12513463 0.12455855\n",
      " 0.14226675 0.12726362 0.12804008 0.13184721 0.14822793 0.12505949\n",
      " 0.12633688 0.11326237 0.11939887 0.09933626 0.08946775 0.10086412\n",
      " 0.09693175 0.10619912 0.08510958 0.07641828 0.07701941 0.09084534\n",
      " 0.08395742 0.08435817 0.09252348 0.107201   0.10519724 0.10487163\n",
      " 0.11113338 0.096531   0.09843456 0.10487163 0.10299311 0.08966813\n",
      " 0.07586725 0.0627176  0.06492173 0.07160927 0.05815905 0.06191609\n",
      " 0.07271133 0.07140889 0.0787226  0.08721353 0.08721353 0.07664371\n",
      " 0.08112711 0.07484033 0.0803757  0.08696306 0.09036944 0.09896055\n",
      " 0.10068879 0.0952536  0.09773325 0.09680651 0.10427051 0.10852849\n",
      " 0.10076393 0.11060739 0.11571697 0.12150282 0.1183469  0.11549155\n",
      " 0.11211021 0.12510958 0.12651221 0.13943644 0.13693175 0.1331747\n",
      " 0.14850344 0.14770194 0.14654978 0.14534753 0.14547276 0.15629305\n",
      " 0.15441453 0.16345648 0.16319653 0.16558789]\n",
      "2 day output [[0.16801897]]\n",
      "3 day input [0.17001879 0.17222292 0.1806387  0.17765811 0.16974327 0.16899186\n",
      " 0.17933626 0.17087038 0.16278021 0.16355667 0.15842204 0.14755166\n",
      " 0.15233563 0.1591985  0.1463995  0.14584847 0.15168441 0.15125861\n",
      " 0.14922981 0.13763306 0.14036318 0.12513463 0.12455855 0.14226675\n",
      " 0.12726362 0.12804008 0.13184721 0.14822793 0.12505949 0.12633688\n",
      " 0.11326237 0.11939887 0.09933626 0.08946775 0.10086412 0.09693175\n",
      " 0.10619912 0.08510958 0.07641828 0.07701941 0.09084534 0.08395742\n",
      " 0.08435817 0.09252348 0.107201   0.10519724 0.10487163 0.11113338\n",
      " 0.096531   0.09843456 0.10487163 0.10299311 0.08966813 0.07586725\n",
      " 0.0627176  0.06492173 0.07160927 0.05815905 0.06191609 0.07271133\n",
      " 0.07140889 0.0787226  0.08721353 0.08721353 0.07664371 0.08112711\n",
      " 0.07484033 0.0803757  0.08696306 0.09036944 0.09896055 0.10068879\n",
      " 0.0952536  0.09773325 0.09680651 0.10427051 0.10852849 0.10076393\n",
      " 0.11060739 0.11571697 0.12150282 0.1183469  0.11549155 0.11211021\n",
      " 0.12510958 0.12651221 0.13943644 0.13693175 0.1331747  0.14850344\n",
      " 0.14770194 0.14654978 0.14534753 0.14547276 0.15629305 0.15441453\n",
      " 0.16345648 0.16319653 0.16558789 0.16801897]\n",
      "3 day output [[0.1704518]]\n",
      "4 day input [0.17222292 0.1806387  0.17765811 0.16974327 0.16899186 0.17933626\n",
      " 0.17087038 0.16278021 0.16355667 0.15842204 0.14755166 0.15233563\n",
      " 0.1591985  0.1463995  0.14584847 0.15168441 0.15125861 0.14922981\n",
      " 0.13763306 0.14036318 0.12513463 0.12455855 0.14226675 0.12726362\n",
      " 0.12804008 0.13184721 0.14822793 0.12505949 0.12633688 0.11326237\n",
      " 0.11939887 0.09933626 0.08946775 0.10086412 0.09693175 0.10619912\n",
      " 0.08510958 0.07641828 0.07701941 0.09084534 0.08395742 0.08435817\n",
      " 0.09252348 0.107201   0.10519724 0.10487163 0.11113338 0.096531\n",
      " 0.09843456 0.10487163 0.10299311 0.08966813 0.07586725 0.0627176\n",
      " 0.06492173 0.07160927 0.05815905 0.06191609 0.07271133 0.07140889\n",
      " 0.0787226  0.08721353 0.08721353 0.07664371 0.08112711 0.07484033\n",
      " 0.0803757  0.08696306 0.09036944 0.09896055 0.10068879 0.0952536\n",
      " 0.09773325 0.09680651 0.10427051 0.10852849 0.10076393 0.11060739\n",
      " 0.11571697 0.12150282 0.1183469  0.11549155 0.11211021 0.12510958\n",
      " 0.12651221 0.13943644 0.13693175 0.1331747  0.14850344 0.14770194\n",
      " 0.14654978 0.14534753 0.14547276 0.15629305 0.15441453 0.16345648\n",
      " 0.16319653 0.16558789 0.16801897 0.1704518 ]\n",
      "4 day output [[0.17285973]]\n",
      "5 day input [0.1806387  0.17765811 0.16974327 0.16899186 0.17933626 0.17087038\n",
      " 0.16278021 0.16355667 0.15842204 0.14755166 0.15233563 0.1591985\n",
      " 0.1463995  0.14584847 0.15168441 0.15125861 0.14922981 0.13763306\n",
      " 0.14036318 0.12513463 0.12455855 0.14226675 0.12726362 0.12804008\n",
      " 0.13184721 0.14822793 0.12505949 0.12633688 0.11326237 0.11939887\n",
      " 0.09933626 0.08946775 0.10086412 0.09693175 0.10619912 0.08510958\n",
      " 0.07641828 0.07701941 0.09084534 0.08395742 0.08435817 0.09252348\n",
      " 0.107201   0.10519724 0.10487163 0.11113338 0.096531   0.09843456\n",
      " 0.10487163 0.10299311 0.08966813 0.07586725 0.0627176  0.06492173\n",
      " 0.07160927 0.05815905 0.06191609 0.07271133 0.07140889 0.0787226\n",
      " 0.08721353 0.08721353 0.07664371 0.08112711 0.07484033 0.0803757\n",
      " 0.08696306 0.09036944 0.09896055 0.10068879 0.0952536  0.09773325\n",
      " 0.09680651 0.10427051 0.10852849 0.10076393 0.11060739 0.11571697\n",
      " 0.12150282 0.1183469  0.11549155 0.11211021 0.12510958 0.12651221\n",
      " 0.13943644 0.13693175 0.1331747  0.14850344 0.14770194 0.14654978\n",
      " 0.14534753 0.14547276 0.15629305 0.15441453 0.16345648 0.16319653\n",
      " 0.16558789 0.16801897 0.1704518  0.17285973]\n",
      "5 day output [[0.17522599]]\n",
      "6 day input [0.17765811 0.16974327 0.16899186 0.17933626 0.17087038 0.16278021\n",
      " 0.16355667 0.15842204 0.14755166 0.15233563 0.1591985  0.1463995\n",
      " 0.14584847 0.15168441 0.15125861 0.14922981 0.13763306 0.14036318\n",
      " 0.12513463 0.12455855 0.14226675 0.12726362 0.12804008 0.13184721\n",
      " 0.14822793 0.12505949 0.12633688 0.11326237 0.11939887 0.09933626\n",
      " 0.08946775 0.10086412 0.09693175 0.10619912 0.08510958 0.07641828\n",
      " 0.07701941 0.09084534 0.08395742 0.08435817 0.09252348 0.107201\n",
      " 0.10519724 0.10487163 0.11113338 0.096531   0.09843456 0.10487163\n",
      " 0.10299311 0.08966813 0.07586725 0.0627176  0.06492173 0.07160927\n",
      " 0.05815905 0.06191609 0.07271133 0.07140889 0.0787226  0.08721353\n",
      " 0.08721353 0.07664371 0.08112711 0.07484033 0.0803757  0.08696306\n",
      " 0.09036944 0.09896055 0.10068879 0.0952536  0.09773325 0.09680651\n",
      " 0.10427051 0.10852849 0.10076393 0.11060739 0.11571697 0.12150282\n",
      " 0.1183469  0.11549155 0.11211021 0.12510958 0.12651221 0.13943644\n",
      " 0.13693175 0.1331747  0.14850344 0.14770194 0.14654978 0.14534753\n",
      " 0.14547276 0.15629305 0.15441453 0.16345648 0.16319653 0.16558789\n",
      " 0.16801897 0.1704518  0.17285973 0.17522599]\n",
      "6 day output [[0.17754097]]\n",
      "7 day input [0.16974327 0.16899186 0.17933626 0.17087038 0.16278021 0.16355667\n",
      " 0.15842204 0.14755166 0.15233563 0.1591985  0.1463995  0.14584847\n",
      " 0.15168441 0.15125861 0.14922981 0.13763306 0.14036318 0.12513463\n",
      " 0.12455855 0.14226675 0.12726362 0.12804008 0.13184721 0.14822793\n",
      " 0.12505949 0.12633688 0.11326237 0.11939887 0.09933626 0.08946775\n",
      " 0.10086412 0.09693175 0.10619912 0.08510958 0.07641828 0.07701941\n",
      " 0.09084534 0.08395742 0.08435817 0.09252348 0.107201   0.10519724\n",
      " 0.10487163 0.11113338 0.096531   0.09843456 0.10487163 0.10299311\n",
      " 0.08966813 0.07586725 0.0627176  0.06492173 0.07160927 0.05815905\n",
      " 0.06191609 0.07271133 0.07140889 0.0787226  0.08721353 0.08721353\n",
      " 0.07664371 0.08112711 0.07484033 0.0803757  0.08696306 0.09036944\n",
      " 0.09896055 0.10068879 0.0952536  0.09773325 0.09680651 0.10427051\n",
      " 0.10852849 0.10076393 0.11060739 0.11571697 0.12150282 0.1183469\n",
      " 0.11549155 0.11211021 0.12510958 0.12651221 0.13943644 0.13693175\n",
      " 0.1331747  0.14850344 0.14770194 0.14654978 0.14534753 0.14547276\n",
      " 0.15629305 0.15441453 0.16345648 0.16319653 0.16558789 0.16801897\n",
      " 0.1704518  0.17285973 0.17522599 0.17754097]\n",
      "7 day output [[0.17980005]]\n",
      "8 day input [0.16899186 0.17933626 0.17087038 0.16278021 0.16355667 0.15842204\n",
      " 0.14755166 0.15233563 0.1591985  0.1463995  0.14584847 0.15168441\n",
      " 0.15125861 0.14922981 0.13763306 0.14036318 0.12513463 0.12455855\n",
      " 0.14226675 0.12726362 0.12804008 0.13184721 0.14822793 0.12505949\n",
      " 0.12633688 0.11326237 0.11939887 0.09933626 0.08946775 0.10086412\n",
      " 0.09693175 0.10619912 0.08510958 0.07641828 0.07701941 0.09084534\n",
      " 0.08395742 0.08435817 0.09252348 0.107201   0.10519724 0.10487163\n",
      " 0.11113338 0.096531   0.09843456 0.10487163 0.10299311 0.08966813\n",
      " 0.07586725 0.0627176  0.06492173 0.07160927 0.05815905 0.06191609\n",
      " 0.07271133 0.07140889 0.0787226  0.08721353 0.08721353 0.07664371\n",
      " 0.08112711 0.07484033 0.0803757  0.08696306 0.09036944 0.09896055\n",
      " 0.10068879 0.0952536  0.09773325 0.09680651 0.10427051 0.10852849\n",
      " 0.10076393 0.11060739 0.11571697 0.12150282 0.1183469  0.11549155\n",
      " 0.11211021 0.12510958 0.12651221 0.13943644 0.13693175 0.1331747\n",
      " 0.14850344 0.14770194 0.14654978 0.14534753 0.14547276 0.15629305\n",
      " 0.15441453 0.16345648 0.16319653 0.16558789 0.16801897 0.1704518\n",
      " 0.17285973 0.17522599 0.17754097 0.17980005]\n",
      "8 day output [[0.18200126]]\n",
      "9 day input [0.17933626 0.17087038 0.16278021 0.16355667 0.15842204 0.14755166\n",
      " 0.15233563 0.1591985  0.1463995  0.14584847 0.15168441 0.15125861\n",
      " 0.14922981 0.13763306 0.14036318 0.12513463 0.12455855 0.14226675\n",
      " 0.12726362 0.12804008 0.13184721 0.14822793 0.12505949 0.12633688\n",
      " 0.11326237 0.11939887 0.09933626 0.08946775 0.10086412 0.09693175\n",
      " 0.10619912 0.08510958 0.07641828 0.07701941 0.09084534 0.08395742\n",
      " 0.08435817 0.09252348 0.107201   0.10519724 0.10487163 0.11113338\n",
      " 0.096531   0.09843456 0.10487163 0.10299311 0.08966813 0.07586725\n",
      " 0.0627176  0.06492173 0.07160927 0.05815905 0.06191609 0.07271133\n",
      " 0.07140889 0.0787226  0.08721353 0.08721353 0.07664371 0.08112711\n",
      " 0.07484033 0.0803757  0.08696306 0.09036944 0.09896055 0.10068879\n",
      " 0.0952536  0.09773325 0.09680651 0.10427051 0.10852849 0.10076393\n",
      " 0.11060739 0.11571697 0.12150282 0.1183469  0.11549155 0.11211021\n",
      " 0.12510958 0.12651221 0.13943644 0.13693175 0.1331747  0.14850344\n",
      " 0.14770194 0.14654978 0.14534753 0.14547276 0.15629305 0.15441453\n",
      " 0.16345648 0.16319653 0.16558789 0.16801897 0.1704518  0.17285973\n",
      " 0.17522599 0.17754097 0.17980005 0.18200126]\n",
      "9 day output [[0.1841443]]\n",
      "10 day input [0.17087038 0.16278021 0.16355667 0.15842204 0.14755166 0.15233563\n",
      " 0.1591985  0.1463995  0.14584847 0.15168441 0.15125861 0.14922981\n",
      " 0.13763306 0.14036318 0.12513463 0.12455855 0.14226675 0.12726362\n",
      " 0.12804008 0.13184721 0.14822793 0.12505949 0.12633688 0.11326237\n",
      " 0.11939887 0.09933626 0.08946775 0.10086412 0.09693175 0.10619912\n",
      " 0.08510958 0.07641828 0.07701941 0.09084534 0.08395742 0.08435817\n",
      " 0.09252348 0.107201   0.10519724 0.10487163 0.11113338 0.096531\n",
      " 0.09843456 0.10487163 0.10299311 0.08966813 0.07586725 0.0627176\n",
      " 0.06492173 0.07160927 0.05815905 0.06191609 0.07271133 0.07140889\n",
      " 0.0787226  0.08721353 0.08721353 0.07664371 0.08112711 0.07484033\n",
      " 0.0803757  0.08696306 0.09036944 0.09896055 0.10068879 0.0952536\n",
      " 0.09773325 0.09680651 0.10427051 0.10852849 0.10076393 0.11060739\n",
      " 0.11571697 0.12150282 0.1183469  0.11549155 0.11211021 0.12510958\n",
      " 0.12651221 0.13943644 0.13693175 0.1331747  0.14850344 0.14770194\n",
      " 0.14654978 0.14534753 0.14547276 0.15629305 0.15441453 0.16345648\n",
      " 0.16319653 0.16558789 0.16801897 0.1704518  0.17285973 0.17522599\n",
      " 0.17754097 0.17980005 0.18200126 0.1841443 ]\n",
      "10 day output [[0.18622956]]\n",
      "11 day input [0.16278021 0.16355667 0.15842204 0.14755166 0.15233563 0.1591985\n",
      " 0.1463995  0.14584847 0.15168441 0.15125861 0.14922981 0.13763306\n",
      " 0.14036318 0.12513463 0.12455855 0.14226675 0.12726362 0.12804008\n",
      " 0.13184721 0.14822793 0.12505949 0.12633688 0.11326237 0.11939887\n",
      " 0.09933626 0.08946775 0.10086412 0.09693175 0.10619912 0.08510958\n",
      " 0.07641828 0.07701941 0.09084534 0.08395742 0.08435817 0.09252348\n",
      " 0.107201   0.10519724 0.10487163 0.11113338 0.096531   0.09843456\n",
      " 0.10487163 0.10299311 0.08966813 0.07586725 0.0627176  0.06492173\n",
      " 0.07160927 0.05815905 0.06191609 0.07271133 0.07140889 0.0787226\n",
      " 0.08721353 0.08721353 0.07664371 0.08112711 0.07484033 0.0803757\n",
      " 0.08696306 0.09036944 0.09896055 0.10068879 0.0952536  0.09773325\n",
      " 0.09680651 0.10427051 0.10852849 0.10076393 0.11060739 0.11571697\n",
      " 0.12150282 0.1183469  0.11549155 0.11211021 0.12510958 0.12651221\n",
      " 0.13943644 0.13693175 0.1331747  0.14850344 0.14770194 0.14654978\n",
      " 0.14534753 0.14547276 0.15629305 0.15441453 0.16345648 0.16319653\n",
      " 0.16558789 0.16801897 0.1704518  0.17285973 0.17522599 0.17754097\n",
      " 0.17980005 0.18200126 0.1841443  0.18622956]\n",
      "11 day output [[0.18825804]]\n",
      "12 day input [0.16355667 0.15842204 0.14755166 0.15233563 0.1591985  0.1463995\n",
      " 0.14584847 0.15168441 0.15125861 0.14922981 0.13763306 0.14036318\n",
      " 0.12513463 0.12455855 0.14226675 0.12726362 0.12804008 0.13184721\n",
      " 0.14822793 0.12505949 0.12633688 0.11326237 0.11939887 0.09933626\n",
      " 0.08946775 0.10086412 0.09693175 0.10619912 0.08510958 0.07641828\n",
      " 0.07701941 0.09084534 0.08395742 0.08435817 0.09252348 0.107201\n",
      " 0.10519724 0.10487163 0.11113338 0.096531   0.09843456 0.10487163\n",
      " 0.10299311 0.08966813 0.07586725 0.0627176  0.06492173 0.07160927\n",
      " 0.05815905 0.06191609 0.07271133 0.07140889 0.0787226  0.08721353\n",
      " 0.08721353 0.07664371 0.08112711 0.07484033 0.0803757  0.08696306\n",
      " 0.09036944 0.09896055 0.10068879 0.0952536  0.09773325 0.09680651\n",
      " 0.10427051 0.10852849 0.10076393 0.11060739 0.11571697 0.12150282\n",
      " 0.1183469  0.11549155 0.11211021 0.12510958 0.12651221 0.13943644\n",
      " 0.13693175 0.1331747  0.14850344 0.14770194 0.14654978 0.14534753\n",
      " 0.14547276 0.15629305 0.15441453 0.16345648 0.16319653 0.16558789\n",
      " 0.16801897 0.1704518  0.17285973 0.17522599 0.17754097 0.17980005\n",
      " 0.18200126 0.1841443  0.18622956 0.18825804]\n",
      "12 day output [[0.19023083]]\n",
      "13 day input [0.15842204 0.14755166 0.15233563 0.1591985  0.1463995  0.14584847\n",
      " 0.15168441 0.15125861 0.14922981 0.13763306 0.14036318 0.12513463\n",
      " 0.12455855 0.14226675 0.12726362 0.12804008 0.13184721 0.14822793\n",
      " 0.12505949 0.12633688 0.11326237 0.11939887 0.09933626 0.08946775\n",
      " 0.10086412 0.09693175 0.10619912 0.08510958 0.07641828 0.07701941\n",
      " 0.09084534 0.08395742 0.08435817 0.09252348 0.107201   0.10519724\n",
      " 0.10487163 0.11113338 0.096531   0.09843456 0.10487163 0.10299311\n",
      " 0.08966813 0.07586725 0.0627176  0.06492173 0.07160927 0.05815905\n",
      " 0.06191609 0.07271133 0.07140889 0.0787226  0.08721353 0.08721353\n",
      " 0.07664371 0.08112711 0.07484033 0.0803757  0.08696306 0.09036944\n",
      " 0.09896055 0.10068879 0.0952536  0.09773325 0.09680651 0.10427051\n",
      " 0.10852849 0.10076393 0.11060739 0.11571697 0.12150282 0.1183469\n",
      " 0.11549155 0.11211021 0.12510958 0.12651221 0.13943644 0.13693175\n",
      " 0.1331747  0.14850344 0.14770194 0.14654978 0.14534753 0.14547276\n",
      " 0.15629305 0.15441453 0.16345648 0.16319653 0.16558789 0.16801897\n",
      " 0.1704518  0.17285973 0.17522599 0.17754097 0.17980005 0.18200126\n",
      " 0.1841443  0.18622956 0.18825804 0.19023083]\n",
      "13 day output [[0.19214907]]\n",
      "14 day input [0.14755166 0.15233563 0.1591985  0.1463995  0.14584847 0.15168441\n",
      " 0.15125861 0.14922981 0.13763306 0.14036318 0.12513463 0.12455855\n",
      " 0.14226675 0.12726362 0.12804008 0.13184721 0.14822793 0.12505949\n",
      " 0.12633688 0.11326237 0.11939887 0.09933626 0.08946775 0.10086412\n",
      " 0.09693175 0.10619912 0.08510958 0.07641828 0.07701941 0.09084534\n",
      " 0.08395742 0.08435817 0.09252348 0.107201   0.10519724 0.10487163\n",
      " 0.11113338 0.096531   0.09843456 0.10487163 0.10299311 0.08966813\n",
      " 0.07586725 0.0627176  0.06492173 0.07160927 0.05815905 0.06191609\n",
      " 0.07271133 0.07140889 0.0787226  0.08721353 0.08721353 0.07664371\n",
      " 0.08112711 0.07484033 0.0803757  0.08696306 0.09036944 0.09896055\n",
      " 0.10068879 0.0952536  0.09773325 0.09680651 0.10427051 0.10852849\n",
      " 0.10076393 0.11060739 0.11571697 0.12150282 0.1183469  0.11549155\n",
      " 0.11211021 0.12510958 0.12651221 0.13943644 0.13693175 0.1331747\n",
      " 0.14850344 0.14770194 0.14654978 0.14534753 0.14547276 0.15629305\n",
      " 0.15441453 0.16345648 0.16319653 0.16558789 0.16801897 0.1704518\n",
      " 0.17285973 0.17522599 0.17754097 0.17980005 0.18200126 0.1841443\n",
      " 0.18622956 0.18825804 0.19023083 0.19214907]\n",
      "14 day output [[0.19401407]]\n",
      "15 day input [0.15233563 0.1591985  0.1463995  0.14584847 0.15168441 0.15125861\n",
      " 0.14922981 0.13763306 0.14036318 0.12513463 0.12455855 0.14226675\n",
      " 0.12726362 0.12804008 0.13184721 0.14822793 0.12505949 0.12633688\n",
      " 0.11326237 0.11939887 0.09933626 0.08946775 0.10086412 0.09693175\n",
      " 0.10619912 0.08510958 0.07641828 0.07701941 0.09084534 0.08395742\n",
      " 0.08435817 0.09252348 0.107201   0.10519724 0.10487163 0.11113338\n",
      " 0.096531   0.09843456 0.10487163 0.10299311 0.08966813 0.07586725\n",
      " 0.0627176  0.06492173 0.07160927 0.05815905 0.06191609 0.07271133\n",
      " 0.07140889 0.0787226  0.08721353 0.08721353 0.07664371 0.08112711\n",
      " 0.07484033 0.0803757  0.08696306 0.09036944 0.09896055 0.10068879\n",
      " 0.0952536  0.09773325 0.09680651 0.10427051 0.10852849 0.10076393\n",
      " 0.11060739 0.11571697 0.12150282 0.1183469  0.11549155 0.11211021\n",
      " 0.12510958 0.12651221 0.13943644 0.13693175 0.1331747  0.14850344\n",
      " 0.14770194 0.14654978 0.14534753 0.14547276 0.15629305 0.15441453\n",
      " 0.16345648 0.16319653 0.16558789 0.16801897 0.1704518  0.17285973\n",
      " 0.17522599 0.17754097 0.17980005 0.18200126 0.1841443  0.18622956\n",
      " 0.18825804 0.19023083 0.19214907 0.19401407]\n",
      "15 day output [[0.1958272]]\n",
      "16 day input [0.1591985  0.1463995  0.14584847 0.15168441 0.15125861 0.14922981\n",
      " 0.13763306 0.14036318 0.12513463 0.12455855 0.14226675 0.12726362\n",
      " 0.12804008 0.13184721 0.14822793 0.12505949 0.12633688 0.11326237\n",
      " 0.11939887 0.09933626 0.08946775 0.10086412 0.09693175 0.10619912\n",
      " 0.08510958 0.07641828 0.07701941 0.09084534 0.08395742 0.08435817\n",
      " 0.09252348 0.107201   0.10519724 0.10487163 0.11113338 0.096531\n",
      " 0.09843456 0.10487163 0.10299311 0.08966813 0.07586725 0.0627176\n",
      " 0.06492173 0.07160927 0.05815905 0.06191609 0.07271133 0.07140889\n",
      " 0.0787226  0.08721353 0.08721353 0.07664371 0.08112711 0.07484033\n",
      " 0.0803757  0.08696306 0.09036944 0.09896055 0.10068879 0.0952536\n",
      " 0.09773325 0.09680651 0.10427051 0.10852849 0.10076393 0.11060739\n",
      " 0.11571697 0.12150282 0.1183469  0.11549155 0.11211021 0.12510958\n",
      " 0.12651221 0.13943644 0.13693175 0.1331747  0.14850344 0.14770194\n",
      " 0.14654978 0.14534753 0.14547276 0.15629305 0.15441453 0.16345648\n",
      " 0.16319653 0.16558789 0.16801897 0.1704518  0.17285973 0.17522599\n",
      " 0.17754097 0.17980005 0.18200126 0.1841443  0.18622956 0.18825804\n",
      " 0.19023083 0.19214907 0.19401407 0.1958272 ]\n",
      "16 day output [[0.1975898]]\n",
      "17 day input [0.1463995  0.14584847 0.15168441 0.15125861 0.14922981 0.13763306\n",
      " 0.14036318 0.12513463 0.12455855 0.14226675 0.12726362 0.12804008\n",
      " 0.13184721 0.14822793 0.12505949 0.12633688 0.11326237 0.11939887\n",
      " 0.09933626 0.08946775 0.10086412 0.09693175 0.10619912 0.08510958\n",
      " 0.07641828 0.07701941 0.09084534 0.08395742 0.08435817 0.09252348\n",
      " 0.107201   0.10519724 0.10487163 0.11113338 0.096531   0.09843456\n",
      " 0.10487163 0.10299311 0.08966813 0.07586725 0.0627176  0.06492173\n",
      " 0.07160927 0.05815905 0.06191609 0.07271133 0.07140889 0.0787226\n",
      " 0.08721353 0.08721353 0.07664371 0.08112711 0.07484033 0.0803757\n",
      " 0.08696306 0.09036944 0.09896055 0.10068879 0.0952536  0.09773325\n",
      " 0.09680651 0.10427051 0.10852849 0.10076393 0.11060739 0.11571697\n",
      " 0.12150282 0.1183469  0.11549155 0.11211021 0.12510958 0.12651221\n",
      " 0.13943644 0.13693175 0.1331747  0.14850344 0.14770194 0.14654978\n",
      " 0.14534753 0.14547276 0.15629305 0.15441453 0.16345648 0.16319653\n",
      " 0.16558789 0.16801897 0.1704518  0.17285973 0.17522599 0.17754097\n",
      " 0.17980005 0.18200126 0.1841443  0.18622956 0.18825804 0.19023083\n",
      " 0.19214907 0.19401407 0.1958272  0.1975898 ]\n",
      "17 day output [[0.1993033]]\n",
      "18 day input [0.14584847 0.15168441 0.15125861 0.14922981 0.13763306 0.14036318\n",
      " 0.12513463 0.12455855 0.14226675 0.12726362 0.12804008 0.13184721\n",
      " 0.14822793 0.12505949 0.12633688 0.11326237 0.11939887 0.09933626\n",
      " 0.08946775 0.10086412 0.09693175 0.10619912 0.08510958 0.07641828\n",
      " 0.07701941 0.09084534 0.08395742 0.08435817 0.09252348 0.107201\n",
      " 0.10519724 0.10487163 0.11113338 0.096531   0.09843456 0.10487163\n",
      " 0.10299311 0.08966813 0.07586725 0.0627176  0.06492173 0.07160927\n",
      " 0.05815905 0.06191609 0.07271133 0.07140889 0.0787226  0.08721353\n",
      " 0.08721353 0.07664371 0.08112711 0.07484033 0.0803757  0.08696306\n",
      " 0.09036944 0.09896055 0.10068879 0.0952536  0.09773325 0.09680651\n",
      " 0.10427051 0.10852849 0.10076393 0.11060739 0.11571697 0.12150282\n",
      " 0.1183469  0.11549155 0.11211021 0.12510958 0.12651221 0.13943644\n",
      " 0.13693175 0.1331747  0.14850344 0.14770194 0.14654978 0.14534753\n",
      " 0.14547276 0.15629305 0.15441453 0.16345648 0.16319653 0.16558789\n",
      " 0.16801897 0.1704518  0.17285973 0.17522599 0.17754097 0.17980005\n",
      " 0.18200126 0.1841443  0.18622956 0.18825804 0.19023083 0.19214907\n",
      " 0.19401407 0.1958272  0.1975898  0.1993033 ]\n",
      "18 day output [[0.2009693]]\n",
      "19 day input [0.15168441 0.15125861 0.14922981 0.13763306 0.14036318 0.12513463\n",
      " 0.12455855 0.14226675 0.12726362 0.12804008 0.13184721 0.14822793\n",
      " 0.12505949 0.12633688 0.11326237 0.11939887 0.09933626 0.08946775\n",
      " 0.10086412 0.09693175 0.10619912 0.08510958 0.07641828 0.07701941\n",
      " 0.09084534 0.08395742 0.08435817 0.09252348 0.107201   0.10519724\n",
      " 0.10487163 0.11113338 0.096531   0.09843456 0.10487163 0.10299311\n",
      " 0.08966813 0.07586725 0.0627176  0.06492173 0.07160927 0.05815905\n",
      " 0.06191609 0.07271133 0.07140889 0.0787226  0.08721353 0.08721353\n",
      " 0.07664371 0.08112711 0.07484033 0.0803757  0.08696306 0.09036944\n",
      " 0.09896055 0.10068879 0.0952536  0.09773325 0.09680651 0.10427051\n",
      " 0.10852849 0.10076393 0.11060739 0.11571697 0.12150282 0.1183469\n",
      " 0.11549155 0.11211021 0.12510958 0.12651221 0.13943644 0.13693175\n",
      " 0.1331747  0.14850344 0.14770194 0.14654978 0.14534753 0.14547276\n",
      " 0.15629305 0.15441453 0.16345648 0.16319653 0.16558789 0.16801897\n",
      " 0.1704518  0.17285973 0.17522599 0.17754097 0.17980005 0.18200126\n",
      " 0.1841443  0.18622956 0.18825804 0.19023083 0.19214907 0.19401407\n",
      " 0.1958272  0.1975898  0.1993033  0.20096929]\n",
      "19 day output [[0.20258923]]\n",
      "20 day input [0.15125861 0.14922981 0.13763306 0.14036318 0.12513463 0.12455855\n",
      " 0.14226675 0.12726362 0.12804008 0.13184721 0.14822793 0.12505949\n",
      " 0.12633688 0.11326237 0.11939887 0.09933626 0.08946775 0.10086412\n",
      " 0.09693175 0.10619912 0.08510958 0.07641828 0.07701941 0.09084534\n",
      " 0.08395742 0.08435817 0.09252348 0.107201   0.10519724 0.10487163\n",
      " 0.11113338 0.096531   0.09843456 0.10487163 0.10299311 0.08966813\n",
      " 0.07586725 0.0627176  0.06492173 0.07160927 0.05815905 0.06191609\n",
      " 0.07271133 0.07140889 0.0787226  0.08721353 0.08721353 0.07664371\n",
      " 0.08112711 0.07484033 0.0803757  0.08696306 0.09036944 0.09896055\n",
      " 0.10068879 0.0952536  0.09773325 0.09680651 0.10427051 0.10852849\n",
      " 0.10076393 0.11060739 0.11571697 0.12150282 0.1183469  0.11549155\n",
      " 0.11211021 0.12510958 0.12651221 0.13943644 0.13693175 0.1331747\n",
      " 0.14850344 0.14770194 0.14654978 0.14534753 0.14547276 0.15629305\n",
      " 0.15441453 0.16345648 0.16319653 0.16558789 0.16801897 0.1704518\n",
      " 0.17285973 0.17522599 0.17754097 0.17980005 0.18200126 0.1841443\n",
      " 0.18622956 0.18825804 0.19023083 0.19214907 0.19401407 0.1958272\n",
      " 0.1975898  0.1993033  0.20096929 0.20258923]\n",
      "20 day output [[0.20416458]]\n",
      "21 day input [0.14922981 0.13763306 0.14036318 0.12513463 0.12455855 0.14226675\n",
      " 0.12726362 0.12804008 0.13184721 0.14822793 0.12505949 0.12633688\n",
      " 0.11326237 0.11939887 0.09933626 0.08946775 0.10086412 0.09693175\n",
      " 0.10619912 0.08510958 0.07641828 0.07701941 0.09084534 0.08395742\n",
      " 0.08435817 0.09252348 0.107201   0.10519724 0.10487163 0.11113338\n",
      " 0.096531   0.09843456 0.10487163 0.10299311 0.08966813 0.07586725\n",
      " 0.0627176  0.06492173 0.07160927 0.05815905 0.06191609 0.07271133\n",
      " 0.07140889 0.0787226  0.08721353 0.08721353 0.07664371 0.08112711\n",
      " 0.07484033 0.0803757  0.08696306 0.09036944 0.09896055 0.10068879\n",
      " 0.0952536  0.09773325 0.09680651 0.10427051 0.10852849 0.10076393\n",
      " 0.11060739 0.11571697 0.12150282 0.1183469  0.11549155 0.11211021\n",
      " 0.12510958 0.12651221 0.13943644 0.13693175 0.1331747  0.14850344\n",
      " 0.14770194 0.14654978 0.14534753 0.14547276 0.15629305 0.15441453\n",
      " 0.16345648 0.16319653 0.16558789 0.16801897 0.1704518  0.17285973\n",
      " 0.17522599 0.17754097 0.17980005 0.18200126 0.1841443  0.18622956\n",
      " 0.18825804 0.19023083 0.19214907 0.19401407 0.1958272  0.1975898\n",
      " 0.1993033  0.20096929 0.20258923 0.20416458]\n",
      "21 day output [[0.20569693]]\n",
      "22 day input [0.13763306 0.14036318 0.12513463 0.12455855 0.14226675 0.12726362\n",
      " 0.12804008 0.13184721 0.14822793 0.12505949 0.12633688 0.11326237\n",
      " 0.11939887 0.09933626 0.08946775 0.10086412 0.09693175 0.10619912\n",
      " 0.08510958 0.07641828 0.07701941 0.09084534 0.08395742 0.08435817\n",
      " 0.09252348 0.107201   0.10519724 0.10487163 0.11113338 0.096531\n",
      " 0.09843456 0.10487163 0.10299311 0.08966813 0.07586725 0.0627176\n",
      " 0.06492173 0.07160927 0.05815905 0.06191609 0.07271133 0.07140889\n",
      " 0.0787226  0.08721353 0.08721353 0.07664371 0.08112711 0.07484033\n",
      " 0.0803757  0.08696306 0.09036944 0.09896055 0.10068879 0.0952536\n",
      " 0.09773325 0.09680651 0.10427051 0.10852849 0.10076393 0.11060739\n",
      " 0.11571697 0.12150282 0.1183469  0.11549155 0.11211021 0.12510958\n",
      " 0.12651221 0.13943644 0.13693175 0.1331747  0.14850344 0.14770194\n",
      " 0.14654978 0.14534753 0.14547276 0.15629305 0.15441453 0.16345648\n",
      " 0.16319653 0.16558789 0.16801897 0.1704518  0.17285973 0.17522599\n",
      " 0.17754097 0.17980005 0.18200126 0.1841443  0.18622956 0.18825804\n",
      " 0.19023083 0.19214907 0.19401407 0.1958272  0.1975898  0.1993033\n",
      " 0.20096929 0.20258923 0.20416458 0.20569693]\n",
      "22 day output [[0.20718776]]\n",
      "23 day input [0.14036318 0.12513463 0.12455855 0.14226675 0.12726362 0.12804008\n",
      " 0.13184721 0.14822793 0.12505949 0.12633688 0.11326237 0.11939887\n",
      " 0.09933626 0.08946775 0.10086412 0.09693175 0.10619912 0.08510958\n",
      " 0.07641828 0.07701941 0.09084534 0.08395742 0.08435817 0.09252348\n",
      " 0.107201   0.10519724 0.10487163 0.11113338 0.096531   0.09843456\n",
      " 0.10487163 0.10299311 0.08966813 0.07586725 0.0627176  0.06492173\n",
      " 0.07160927 0.05815905 0.06191609 0.07271133 0.07140889 0.0787226\n",
      " 0.08721353 0.08721353 0.07664371 0.08112711 0.07484033 0.0803757\n",
      " 0.08696306 0.09036944 0.09896055 0.10068879 0.0952536  0.09773325\n",
      " 0.09680651 0.10427051 0.10852849 0.10076393 0.11060739 0.11571697\n",
      " 0.12150282 0.1183469  0.11549155 0.11211021 0.12510958 0.12651221\n",
      " 0.13943644 0.13693175 0.1331747  0.14850344 0.14770194 0.14654978\n",
      " 0.14534753 0.14547276 0.15629305 0.15441453 0.16345648 0.16319653\n",
      " 0.16558789 0.16801897 0.1704518  0.17285973 0.17522599 0.17754097\n",
      " 0.17980005 0.18200126 0.1841443  0.18622956 0.18825804 0.19023083\n",
      " 0.19214907 0.19401407 0.1958272  0.1975898  0.1993033  0.20096929\n",
      " 0.20258923 0.20416458 0.20569693 0.20718776]\n",
      "23 day output [[0.20863856]]\n",
      "24 day input [0.12513463 0.12455855 0.14226675 0.12726362 0.12804008 0.13184721\n",
      " 0.14822793 0.12505949 0.12633688 0.11326237 0.11939887 0.09933626\n",
      " 0.08946775 0.10086412 0.09693175 0.10619912 0.08510958 0.07641828\n",
      " 0.07701941 0.09084534 0.08395742 0.08435817 0.09252348 0.107201\n",
      " 0.10519724 0.10487163 0.11113338 0.096531   0.09843456 0.10487163\n",
      " 0.10299311 0.08966813 0.07586725 0.0627176  0.06492173 0.07160927\n",
      " 0.05815905 0.06191609 0.07271133 0.07140889 0.0787226  0.08721353\n",
      " 0.08721353 0.07664371 0.08112711 0.07484033 0.0803757  0.08696306\n",
      " 0.09036944 0.09896055 0.10068879 0.0952536  0.09773325 0.09680651\n",
      " 0.10427051 0.10852849 0.10076393 0.11060739 0.11571697 0.12150282\n",
      " 0.1183469  0.11549155 0.11211021 0.12510958 0.12651221 0.13943644\n",
      " 0.13693175 0.1331747  0.14850344 0.14770194 0.14654978 0.14534753\n",
      " 0.14547276 0.15629305 0.15441453 0.16345648 0.16319653 0.16558789\n",
      " 0.16801897 0.1704518  0.17285973 0.17522599 0.17754097 0.17980005\n",
      " 0.18200126 0.1841443  0.18622956 0.18825804 0.19023083 0.19214907\n",
      " 0.19401407 0.1958272  0.1975898  0.1993033  0.20096929 0.20258923\n",
      " 0.20416458 0.20569693 0.20718776 0.20863856]\n",
      "24 day output [[0.21005069]]\n",
      "25 day input [0.12455855 0.14226675 0.12726362 0.12804008 0.13184721 0.14822793\n",
      " 0.12505949 0.12633688 0.11326237 0.11939887 0.09933626 0.08946775\n",
      " 0.10086412 0.09693175 0.10619912 0.08510958 0.07641828 0.07701941\n",
      " 0.09084534 0.08395742 0.08435817 0.09252348 0.107201   0.10519724\n",
      " 0.10487163 0.11113338 0.096531   0.09843456 0.10487163 0.10299311\n",
      " 0.08966813 0.07586725 0.0627176  0.06492173 0.07160927 0.05815905\n",
      " 0.06191609 0.07271133 0.07140889 0.0787226  0.08721353 0.08721353\n",
      " 0.07664371 0.08112711 0.07484033 0.0803757  0.08696306 0.09036944\n",
      " 0.09896055 0.10068879 0.0952536  0.09773325 0.09680651 0.10427051\n",
      " 0.10852849 0.10076393 0.11060739 0.11571697 0.12150282 0.1183469\n",
      " 0.11549155 0.11211021 0.12510958 0.12651221 0.13943644 0.13693175\n",
      " 0.1331747  0.14850344 0.14770194 0.14654978 0.14534753 0.14547276\n",
      " 0.15629305 0.15441453 0.16345648 0.16319653 0.16558789 0.16801897\n",
      " 0.1704518  0.17285973 0.17522599 0.17754097 0.17980005 0.18200126\n",
      " 0.1841443  0.18622956 0.18825804 0.19023083 0.19214907 0.19401407\n",
      " 0.1958272  0.1975898  0.1993033  0.20096929 0.20258923 0.20416458\n",
      " 0.20569693 0.20718776 0.20863856 0.21005069]\n",
      "25 day output [[0.21142559]]\n",
      "26 day input [0.14226675 0.12726362 0.12804008 0.13184721 0.14822793 0.12505949\n",
      " 0.12633688 0.11326237 0.11939887 0.09933626 0.08946775 0.10086412\n",
      " 0.09693175 0.10619912 0.08510958 0.07641828 0.07701941 0.09084534\n",
      " 0.08395742 0.08435817 0.09252348 0.107201   0.10519724 0.10487163\n",
      " 0.11113338 0.096531   0.09843456 0.10487163 0.10299311 0.08966813\n",
      " 0.07586725 0.0627176  0.06492173 0.07160927 0.05815905 0.06191609\n",
      " 0.07271133 0.07140889 0.0787226  0.08721353 0.08721353 0.07664371\n",
      " 0.08112711 0.07484033 0.0803757  0.08696306 0.09036944 0.09896055\n",
      " 0.10068879 0.0952536  0.09773325 0.09680651 0.10427051 0.10852849\n",
      " 0.10076393 0.11060739 0.11571697 0.12150282 0.1183469  0.11549155\n",
      " 0.11211021 0.12510958 0.12651221 0.13943644 0.13693175 0.1331747\n",
      " 0.14850344 0.14770194 0.14654978 0.14534753 0.14547276 0.15629305\n",
      " 0.15441453 0.16345648 0.16319653 0.16558789 0.16801897 0.1704518\n",
      " 0.17285973 0.17522599 0.17754097 0.17980005 0.18200126 0.1841443\n",
      " 0.18622956 0.18825804 0.19023083 0.19214907 0.19401407 0.1958272\n",
      " 0.1975898  0.1993033  0.20096929 0.20258923 0.20416458 0.20569693\n",
      " 0.20718776 0.20863856 0.21005069 0.21142559]\n",
      "26 day output [[0.21276449]]\n",
      "27 day input [0.12726362 0.12804008 0.13184721 0.14822793 0.12505949 0.12633688\n",
      " 0.11326237 0.11939887 0.09933626 0.08946775 0.10086412 0.09693175\n",
      " 0.10619912 0.08510958 0.07641828 0.07701941 0.09084534 0.08395742\n",
      " 0.08435817 0.09252348 0.107201   0.10519724 0.10487163 0.11113338\n",
      " 0.096531   0.09843456 0.10487163 0.10299311 0.08966813 0.07586725\n",
      " 0.0627176  0.06492173 0.07160927 0.05815905 0.06191609 0.07271133\n",
      " 0.07140889 0.0787226  0.08721353 0.08721353 0.07664371 0.08112711\n",
      " 0.07484033 0.0803757  0.08696306 0.09036944 0.09896055 0.10068879\n",
      " 0.0952536  0.09773325 0.09680651 0.10427051 0.10852849 0.10076393\n",
      " 0.11060739 0.11571697 0.12150282 0.1183469  0.11549155 0.11211021\n",
      " 0.12510958 0.12651221 0.13943644 0.13693175 0.1331747  0.14850344\n",
      " 0.14770194 0.14654978 0.14534753 0.14547276 0.15629305 0.15441453\n",
      " 0.16345648 0.16319653 0.16558789 0.16801897 0.1704518  0.17285973\n",
      " 0.17522599 0.17754097 0.17980005 0.18200126 0.1841443  0.18622956\n",
      " 0.18825804 0.19023083 0.19214907 0.19401407 0.1958272  0.1975898\n",
      " 0.1993033  0.20096929 0.20258923 0.20416458 0.20569693 0.20718776\n",
      " 0.20863856 0.21005069 0.21142559 0.21276449]\n",
      "27 day output [[0.2140685]]\n",
      "28 day input [0.12804008 0.13184721 0.14822793 0.12505949 0.12633688 0.11326237\n",
      " 0.11939887 0.09933626 0.08946775 0.10086412 0.09693175 0.10619912\n",
      " 0.08510958 0.07641828 0.07701941 0.09084534 0.08395742 0.08435817\n",
      " 0.09252348 0.107201   0.10519724 0.10487163 0.11113338 0.096531\n",
      " 0.09843456 0.10487163 0.10299311 0.08966813 0.07586725 0.0627176\n",
      " 0.06492173 0.07160927 0.05815905 0.06191609 0.07271133 0.07140889\n",
      " 0.0787226  0.08721353 0.08721353 0.07664371 0.08112711 0.07484033\n",
      " 0.0803757  0.08696306 0.09036944 0.09896055 0.10068879 0.0952536\n",
      " 0.09773325 0.09680651 0.10427051 0.10852849 0.10076393 0.11060739\n",
      " 0.11571697 0.12150282 0.1183469  0.11549155 0.11211021 0.12510958\n",
      " 0.12651221 0.13943644 0.13693175 0.1331747  0.14850344 0.14770194\n",
      " 0.14654978 0.14534753 0.14547276 0.15629305 0.15441453 0.16345648\n",
      " 0.16319653 0.16558789 0.16801897 0.1704518  0.17285973 0.17522599\n",
      " 0.17754097 0.17980005 0.18200126 0.1841443  0.18622956 0.18825804\n",
      " 0.19023083 0.19214907 0.19401407 0.1958272  0.1975898  0.1993033\n",
      " 0.20096929 0.20258923 0.20416458 0.20569693 0.20718776 0.20863856\n",
      " 0.21005069 0.21142559 0.21276449 0.2140685 ]\n",
      "28 day output [[0.21533903]]\n",
      "29 day input [0.13184721 0.14822793 0.12505949 0.12633688 0.11326237 0.11939887\n",
      " 0.09933626 0.08946775 0.10086412 0.09693175 0.10619912 0.08510958\n",
      " 0.07641828 0.07701941 0.09084534 0.08395742 0.08435817 0.09252348\n",
      " 0.107201   0.10519724 0.10487163 0.11113338 0.096531   0.09843456\n",
      " 0.10487163 0.10299311 0.08966813 0.07586725 0.0627176  0.06492173\n",
      " 0.07160927 0.05815905 0.06191609 0.07271133 0.07140889 0.0787226\n",
      " 0.08721353 0.08721353 0.07664371 0.08112711 0.07484033 0.0803757\n",
      " 0.08696306 0.09036944 0.09896055 0.10068879 0.0952536  0.09773325\n",
      " 0.09680651 0.10427051 0.10852849 0.10076393 0.11060739 0.11571697\n",
      " 0.12150282 0.1183469  0.11549155 0.11211021 0.12510958 0.12651221\n",
      " 0.13943644 0.13693175 0.1331747  0.14850344 0.14770194 0.14654978\n",
      " 0.14534753 0.14547276 0.15629305 0.15441453 0.16345648 0.16319653\n",
      " 0.16558789 0.16801897 0.1704518  0.17285973 0.17522599 0.17754097\n",
      " 0.17980005 0.18200126 0.1841443  0.18622956 0.18825804 0.19023083\n",
      " 0.19214907 0.19401407 0.1958272  0.1975898  0.1993033  0.20096929\n",
      " 0.20258923 0.20416458 0.20569693 0.20718776 0.20863856 0.21005069\n",
      " 0.21142559 0.21276449 0.2140685  0.21533903]\n",
      "29 day output [[0.2165771]]\n",
      "[[0.16319653391838074], [0.1655878871679306], [0.16801896691322327], [0.1704518049955368], [0.17285972833633423], [0.17522598803043365], [0.17754097282886505], [0.17980004847049713], [0.1820012629032135], [0.1841443032026291], [0.18622955679893494], [0.18825803697109222], [0.1902308315038681], [0.1921490728855133], [0.1940140724182129], [0.1958272010087967], [0.19758979976177216], [0.1993032991886139], [0.20096929371356964], [0.2025892287492752], [0.20416457951068878], [0.2056969255208969], [0.20718775689601898], [0.20863856375217438], [0.21005068719387054], [0.21142558753490448], [0.21276448667049408], [0.21406850218772888], [0.2153390347957611], [0.21657709777355194]]\n"
     ]
    }
   ],
   "source": [
    "# demonstrate prediction for next 10 days\n",
    "from numpy import array\n",
    "\n",
    "lst_output=[]\n",
    "n_steps=100\n",
    "i=0\n",
    "while(i<30):\n",
    "    \n",
    "    if(len(temp_input)>100):\n",
    "        #print(temp_input)\n",
    "        x_input=np.array(temp_input[1:])\n",
    "        print(\"{} day input {}\".format(i,x_input))\n",
    "        x_input=x_input.reshape(1,-1)\n",
    "        x_input = x_input.reshape((1, n_steps, 1))\n",
    "        #print(x_input)\n",
    "        yhat = model.predict(x_input, verbose=0)\n",
    "        print(\"{} day output {}\".format(i,yhat))\n",
    "        temp_input.extend(yhat[0].tolist())\n",
    "        temp_input=temp_input[1:]\n",
    "        #print(temp_input)\n",
    "        lst_output.extend(yhat.tolist())\n",
    "        i=i+1\n",
    "    else:\n",
    "        x_input = x_input.reshape((1, n_steps,1))\n",
    "        yhat = model.predict(x_input, verbose=0)\n",
    "        print(yhat[0])\n",
    "        temp_input.extend(yhat[0].tolist())\n",
    "        print(len(temp_input))\n",
    "        lst_output.extend(yhat.tolist())\n",
    "        i=i+1\n",
    "    \n",
    "\n",
    "print(lst_output)"
   ]
  },
  {
   "cell_type": "code",
   "execution_count": 52,
   "id": "6e3aa5e2",
   "metadata": {},
   "outputs": [],
   "source": [
    "day_new=np.arange(1,101)\n",
    "day_pred=np.arange(101,131)"
   ]
  },
  {
   "cell_type": "code",
   "execution_count": 53,
   "id": "b414ec2a",
   "metadata": {},
   "outputs": [],
   "source": [
    "import matplotlib.pyplot as plt"
   ]
  },
  {
   "cell_type": "code",
   "execution_count": 54,
   "id": "f1170d8e",
   "metadata": {},
   "outputs": [
    {
     "data": {
      "text/plain": [
       "1257"
      ]
     },
     "execution_count": 54,
     "metadata": {},
     "output_type": "execute_result"
    }
   ],
   "source": [
    "len(df1)"
   ]
  },
  {
   "cell_type": "code",
   "execution_count": 56,
   "id": "ffa54df5",
   "metadata": {},
   "outputs": [
    {
     "data": {
      "text/plain": [
       "[<matplotlib.lines.Line2D at 0x2e9c4280850>]"
      ]
     },
     "execution_count": 56,
     "metadata": {},
     "output_type": "execute_result"
    },
    {
     "data": {
      "image/png": "[encoded data removed]",
      "text/plain": [
       "<Figure size 432x288 with 1 Axes>"
      ]
     },
     "metadata": {
      "needs_background": "light"
     },
     "output_type": "display_data"
    }
   ],
   "source": [
    "plt.plot(day_new,scaler.inverse_transform(df1[1157:]))\n",
    "plt.plot(day_pred,scaler.inverse_transform(lst_output))"
   ]
  },
  {
   "cell_type": "code",
   "execution_count": 57,
   "id": "d465668c",
   "metadata": {},
   "outputs": [
    {
     "data": {
      "text/plain": [
       "[<matplotlib.lines.Line2D at 0x2e9c42fc850>]"
      ]
     },
     "execution_count": 57,
     "metadata": {},
     "output_type": "execute_result"
    },
    {
     "data": {
      "image/png": "[encoded data removed]",
      "text/plain": [
       "<Figure size 432x288 with 1 Axes>"
      ]
     },
     "metadata": {
      "needs_background": "light"
     },
     "output_type": "display_data"
    }
   ],
   "source": [
    "df3=df1.tolist()\n",
    "df3.extend(lst_output)\n",
    "plt.plot(df3[1200:])"
   ]
  },
  {
   "cell_type": "code",
   "execution_count": 58,
   "id": "45b39e19",
   "metadata": {},
   "outputs": [],
   "source": [
    "df3=scaler.inverse_transform(df3).tolist()"
   ]
  },
  {
   "cell_type": "code",
   "execution_count": 59,
   "id": "5085e53b",
   "metadata": {},
   "outputs": [
    {
     "data": {
      "text/plain": [
       "[<matplotlib.lines.Line2D at 0x2e9c435b6a0>]"
      ]
     },
     "execution_count": 59,
     "metadata": {},
     "output_type": "execute_result"
    },
    {
     "data": {
      "image/png": "[encoded data removed]",
      "text/plain": [
       "<Figure size 432x288 with 1 Axes>"
      ]
     },
     "metadata": {
      "needs_background": "light"
     },
     "output_type": "display_data"
    }
   ],
   "source": [
    "plt.plot(df3)"
   ]
  },
  {
   "cell_type": "code",
   "execution_count": null,
   "id": "2ded7b9e",
   "metadata": {},
   "outputs": [],
   "source": []
  }
 ],
 "metadata": {
  "kernelspec": {
   "display_name": "Python 3 (ipykernel)",
   "language": "python",
   "name": "python3"
  },
  "language_info": {
   "codemirror_mode": {
    "name": "ipython",
    "version": 3
   },
   "file_extension": ".py",
   "mimetype": "text/x-python",
   "name": "python",
   "nbconvert_exporter": "python",
   "pygments_lexer": "ipython3",
   "version": "3.9.12"
  }
 },
 "nbformat": 4,
 "nbformat_minor": 5
}
