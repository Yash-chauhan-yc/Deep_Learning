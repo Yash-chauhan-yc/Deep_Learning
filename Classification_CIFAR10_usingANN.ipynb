{
 "cells": [
  {
   "cell_type": "markdown",
   "id": "637cae89",
   "metadata": {},
   "source": [
    "## Importing essential libraries"
   ]
  },
  {
   "cell_type": "code",
   "execution_count": 26,
   "id": "817f230d",
   "metadata": {},
   "outputs": [],
   "source": [
    "import tensorflow as tf\n",
    "from tensorflow.keras import datasets, layers, models\n",
    "import matplotlib.pyplot as plt\n",
    "import numpy as np"
   ]
  },
  {
   "cell_type": "markdown",
   "id": "8cb0c09b",
   "metadata": {},
   "source": [
    "## Loading the Dataset\n",
    "\n",
    "CIFAR-10\n",
    "\n",
    "The CIFAR-10 dataset consists of 60000 32x32 colour images in 10 classes, with 6000 images per class. There are 50000 training images and 10000 test images."
   ]
  },
  {
   "cell_type": "code",
   "execution_count": 3,
   "id": "d9590f7a",
   "metadata": {},
   "outputs": [
    {
     "name": "stdout",
     "output_type": "stream",
     "text": [
      "Downloading data from https://www.cs.toronto.edu/~kriz/cifar-10-python.tar.gz\n",
      "170498071/170498071 [==============================] - 34s 0us/step\n"
     ]
    }
   ],
   "source": [
    "(X_train, Y_train), (X_test, Y_test) = datasets.cifar10.load_data()"
   ]
  },
  {
   "cell_type": "code",
   "execution_count": 5,
   "id": "b3398de1",
   "metadata": {},
   "outputs": [
    {
     "data": {
      "text/plain": [
       "((50000, 32, 32, 3), (10000, 32, 32, 3))"
      ]
     },
     "execution_count": 5,
     "metadata": {},
     "output_type": "execute_result"
    }
   ],
   "source": [
    "X_train.shape, X_test.shape"
   ]
  },
  {
   "cell_type": "code",
   "execution_count": 6,
   "id": "ad549143",
   "metadata": {},
   "outputs": [
    {
     "data": {
      "text/plain": [
       "((50000, 1), (10000, 1))"
      ]
     },
     "execution_count": 6,
     "metadata": {},
     "output_type": "execute_result"
    }
   ],
   "source": [
    "Y_train.shape, Y_test.shape"
   ]
  },
  {
   "cell_type": "code",
   "execution_count": 9,
   "id": "6b47bc50",
   "metadata": {},
   "outputs": [
    {
     "data": {
      "text/plain": [
       "array([[[ 59,  62,  63],\n",
       "        [ 43,  46,  45],\n",
       "        [ 50,  48,  43],\n",
       "        ...,\n",
       "        [158, 132, 108],\n",
       "        [152, 125, 102],\n",
       "        [148, 124, 103]],\n",
       "\n",
       "       [[ 16,  20,  20],\n",
       "        [  0,   0,   0],\n",
       "        [ 18,   8,   0],\n",
       "        ...,\n",
       "        [123,  88,  55],\n",
       "        [119,  83,  50],\n",
       "        [122,  87,  57]],\n",
       "\n",
       "       [[ 25,  24,  21],\n",
       "        [ 16,   7,   0],\n",
       "        [ 49,  27,   8],\n",
       "        ...,\n",
       "        [118,  84,  50],\n",
       "        [120,  84,  50],\n",
       "        [109,  73,  42]],\n",
       "\n",
       "       ...,\n",
       "\n",
       "       [[208, 170,  96],\n",
       "        [201, 153,  34],\n",
       "        [198, 161,  26],\n",
       "        ...,\n",
       "        [160, 133,  70],\n",
       "        [ 56,  31,   7],\n",
       "        [ 53,  34,  20]],\n",
       "\n",
       "       [[180, 139,  96],\n",
       "        [173, 123,  42],\n",
       "        [186, 144,  30],\n",
       "        ...,\n",
       "        [184, 148,  94],\n",
       "        [ 97,  62,  34],\n",
       "        [ 83,  53,  34]],\n",
       "\n",
       "       [[177, 144, 116],\n",
       "        [168, 129,  94],\n",
       "        [179, 142,  87],\n",
       "        ...,\n",
       "        [216, 184, 140],\n",
       "        [151, 118,  84],\n",
       "        [123,  92,  72]]], dtype=uint8)"
      ]
     },
     "execution_count": 9,
     "metadata": {},
     "output_type": "execute_result"
    }
   ],
   "source": [
    "X_train[0]"
   ]
  },
  {
   "cell_type": "code",
   "execution_count": 8,
   "id": "cf20dd24",
   "metadata": {},
   "outputs": [
    {
     "data": {
      "text/plain": [
       "array([[6],\n",
       "       [9],\n",
       "       [9],\n",
       "       [4],\n",
       "       [1]], dtype=uint8)"
      ]
     },
     "execution_count": 8,
     "metadata": {},
     "output_type": "execute_result"
    }
   ],
   "source": [
    "Y_train[:5]"
   ]
  },
  {
   "cell_type": "code",
   "execution_count": 10,
   "id": "2ee67b07",
   "metadata": {},
   "outputs": [],
   "source": [
    "Y_train = Y_train.reshape(-1,)"
   ]
  },
  {
   "cell_type": "code",
   "execution_count": 11,
   "id": "38c3dd9f",
   "metadata": {},
   "outputs": [
    {
     "data": {
      "text/plain": [
       "array([6, 9, 9, 4, 1], dtype=uint8)"
      ]
     },
     "execution_count": 11,
     "metadata": {},
     "output_type": "execute_result"
    }
   ],
   "source": [
    "Y_train[:5]"
   ]
  },
  {
   "cell_type": "code",
   "execution_count": 12,
   "id": "72a8a1f6",
   "metadata": {},
   "outputs": [],
   "source": [
    "classes = [\"airplane\",\"automobile\",\"bird\",\"cat\",\"deer\",\"dog\",\"frog\",\"horse\",\"ship\",\"truck\"]"
   ]
  },
  {
   "cell_type": "code",
   "execution_count": 13,
   "id": "4fa6dd7c",
   "metadata": {},
   "outputs": [],
   "source": [
    "def plot_sample(X, Y, index): \n",
    "   plt.figure(figsize=(15,2))\n",
    "   plt.imshow(X[index])\n",
    "   plt.xlabel(classes[Y[index]])"
   ]
  },
  {
   "cell_type": "code",
   "execution_count": 14,
   "id": "474a2aa5",
   "metadata": {},
   "outputs": [
    {
     "data": {
      "image/png": "[encoded data removed]",
      "text/plain": [
       "<Figure size 1080x144 with 1 Axes>"
      ]
     },
     "metadata": {
      "needs_background": "light"
     },
     "output_type": "display_data"
    }
   ],
   "source": [
    "plot_sample(X_train, Y_train, 0)"
   ]
  },
  {
   "cell_type": "code",
   "execution_count": 15,
   "id": "a2f985a5",
   "metadata": {},
   "outputs": [
    {
     "data": {
      "image/png": "[encoded data removed]",
      "text/plain": [
       "<Figure size 1080x144 with 1 Axes>"
      ]
     },
     "metadata": {
      "needs_background": "light"
     },
     "output_type": "display_data"
    }
   ],
   "source": [
    "plot_sample(X_train, Y_train, 1)"
   ]
  },
  {
   "cell_type": "markdown",
   "id": "8e8eade4",
   "metadata": {},
   "source": [
    "## Normalizing out data\n",
    "The pixel values can range from 0 to 256. Each number represents a color code. When using the image as it is and passing through a Deep Neural Network, the computation of high numeric values may become more complex. To reduce this we can normalize the values to range from 0 to 1. In this way, the numbers will be small and the computation becomes easier and faster. As the pixel values range from 0 to 256, apart from 0 the range is 255. So dividing all the values by 255 will convert it to range from 0 to 1.\n",
    "\n"
   ]
  },
  {
   "cell_type": "code",
   "execution_count": 16,
   "id": "7acdcd30",
   "metadata": {},
   "outputs": [],
   "source": [
    "X_train = X_train / 255\n",
    "X_test = X_test / 255 "
   ]
  },
  {
   "cell_type": "markdown",
   "id": "09ac2db4",
   "metadata": {},
   "source": [
    "## First I will show you how Artificial Neural Network work with cifar10 dataset\n",
    "So first we are building Artificial Neural Network Model(ANN)"
   ]
  },
  {
   "cell_type": "code",
   "execution_count": 17,
   "id": "760977fe",
   "metadata": {},
   "outputs": [
    {
     "name": "stdout",
     "output_type": "stream",
     "text": [
      "Epoch 1/5\n",
      "1563/1563 [==============================] - 115s 73ms/step - loss: 1.8105 - accuracy: 0.3547\n",
      "Epoch 2/5\n",
      "1563/1563 [==============================] - 114s 73ms/step - loss: 1.6243 - accuracy: 0.4279\n",
      "Epoch 3/5\n",
      "1563/1563 [==============================] - 112s 72ms/step - loss: 1.5434 - accuracy: 0.4550\n",
      "Epoch 4/5\n",
      "1563/1563 [==============================] - 113s 72ms/step - loss: 1.4834 - accuracy: 0.4775\n",
      "Epoch 5/5\n",
      "1563/1563 [==============================] - 111s 71ms/step - loss: 1.4326 - accuracy: 0.4971\n"
     ]
    },
    {
     "data": {
      "text/plain": [
       "<keras.callbacks.History at 0x1a935ee2bb0>"
      ]
     },
     "execution_count": 17,
     "metadata": {},
     "output_type": "execute_result"
    }
   ],
   "source": [
    "ANN = models.Sequential([\n",
    "        layers.Flatten(input_shape=(32,32,3)),\n",
    "        layers.Dense(3000, activation='relu'),\n",
    "        layers.Dense(1000, activation='relu'),\n",
    "        layers.Dense(10, activation='sigmoid')\n",
    "     ])\n",
    "\n",
    "ANN.compile(optimizer='SGD',\n",
    "            loss='sparse_categorical_crossentropy',\n",
    "            metrics=['accuracy'])\n",
    "\n",
    "ANN.fit(X_train, Y_train, epochs=5)"
   ]
  },
  {
   "cell_type": "code",
   "execution_count": 18,
   "id": "67a40f5b",
   "metadata": {},
   "outputs": [
    {
     "name": "stdout",
     "output_type": "stream",
     "text": [
      "313/313 [==============================] - 10s 31ms/step - loss: 1.4584 - accuracy: 0.4785\n"
     ]
    },
    {
     "data": {
      "text/plain": [
       "[1.4584294557571411, 0.47850000858306885]"
      ]
     },
     "execution_count": 18,
     "metadata": {},
     "output_type": "execute_result"
    }
   ],
   "source": [
    "ANN.evaluate(X_test, Y_test)"
   ]
  },
  {
   "cell_type": "markdown",
   "id": "92ae124a",
   "metadata": {},
   "source": [
    "## Classification report of ANN model"
   ]
  },
  {
   "cell_type": "code",
   "execution_count": 22,
   "id": "b0f6aabc",
   "metadata": {},
   "outputs": [
    {
     "name": "stdout",
     "output_type": "stream",
     "text": [
      "313/313 [==============================] - 9s 30ms/step\n",
      "Classification Report: \n",
      "               precision    recall  f1-score   support\n",
      "\n",
      "           0       0.61      0.47      0.53      1000\n",
      "           1       0.69      0.47      0.56      1000\n",
      "           2       0.36      0.35      0.36      1000\n",
      "           3       0.43      0.19      0.27      1000\n",
      "           4       0.33      0.59      0.42      1000\n",
      "           5       0.41      0.38      0.40      1000\n",
      "           6       0.55      0.46      0.50      1000\n",
      "           7       0.53      0.57      0.55      1000\n",
      "           8       0.50      0.74      0.60      1000\n",
      "           9       0.56      0.56      0.56      1000\n",
      "\n",
      "    accuracy                           0.48     10000\n",
      "   macro avg       0.50      0.48      0.47     10000\n",
      "weighted avg       0.50      0.48      0.47     10000\n",
      "\n"
     ]
    }
   ],
   "source": [
    "from sklearn.metrics import confusion_matrix, classification_report\n",
    "import numpy as np\n",
    "Y_pred = ANN.predict(X_test)\n",
    "Y_pred_class = [np.argmax(element) for element in Y_pred]\n",
    "\n",
    "print(\"Classification Report: \\n\", classification_report(Y_test,Y_pred_class))"
   ]
  },
  {
   "cell_type": "markdown",
   "id": "d2084e93",
   "metadata": {},
   "source": [
    "## Now Building Convolution Neural Network (CNN)\n",
    " "
   ]
  },
  {
   "cell_type": "code",
   "execution_count": 28,
   "id": "effc58d0",
   "metadata": {},
   "outputs": [],
   "source": [
    "CNN = models.Sequential([\n",
    "          layers.Conv2D(filters=32, kernel_size=(3,3), activation='relu', input_shape=(32,32,3)),\n",
    "          layers.MaxPooling2D((2,2)),\n",
    "\n",
    "          layers.Conv2D(filters=32, kernel_size=(3,3), activation='relu'),\n",
    "          layers.MaxPooling2D((2,2)),\n",
    "\n",
    "          layers.Flatten(),\n",
    "          layers.Dense(64,activation='relu'),\n",
    "          layers.Dense(10,activation='softmax')\n",
    "      ])"
   ]
  },
  {
   "cell_type": "markdown",
   "id": "026ea09c",
   "metadata": {},
   "source": [
    "### Compiling the CNN model "
   ]
  },
  {
   "cell_type": "code",
   "execution_count": 30,
   "id": "bcebcb76",
   "metadata": {},
   "outputs": [],
   "source": [
    "CNN.compile(optimizer='adam',\n",
    "           loss='sparse_categorical_crossentropy',\n",
    "           metrics=['accuracy'])"
   ]
  },
  {
   "cell_type": "code",
   "execution_count": 31,
   "id": "8c12eff7",
   "metadata": {},
   "outputs": [
    {
     "name": "stdout",
     "output_type": "stream",
     "text": [
      "Epoch 1/10\n",
      "1563/1563 [==============================] - 48s 29ms/step - loss: 1.4811 - accuracy: 0.4680\n",
      "Epoch 2/10\n",
      "1563/1563 [==============================] - 46s 30ms/step - loss: 1.1564 - accuracy: 0.5916\n",
      "Epoch 3/10\n",
      "1563/1563 [==============================] - 46s 29ms/step - loss: 1.0412 - accuracy: 0.6339\n",
      "Epoch 4/10\n",
      "1563/1563 [==============================] - 48s 30ms/step - loss: 0.9701 - accuracy: 0.6603\n",
      "Epoch 5/10\n",
      "1563/1563 [==============================] - 46s 29ms/step - loss: 0.9112 - accuracy: 0.6826\n",
      "Epoch 6/10\n",
      "1563/1563 [==============================] - 48s 31ms/step - loss: 0.8648 - accuracy: 0.6986\n",
      "Epoch 7/10\n",
      "1563/1563 [==============================] - 46s 30ms/step - loss: 0.8237 - accuracy: 0.7128\n",
      "Epoch 8/10\n",
      "1563/1563 [==============================] - 45s 29ms/step - loss: 0.7882 - accuracy: 0.7249\n",
      "Epoch 9/10\n",
      "1563/1563 [==============================] - 45s 29ms/step - loss: 0.7587 - accuracy: 0.7364\n",
      "Epoch 10/10\n",
      "1563/1563 [==============================] - 45s 29ms/step - loss: 0.7285 - accuracy: 0.7440\n"
     ]
    },
    {
     "data": {
      "text/plain": [
       "<keras.callbacks.History at 0x1a99d57f0d0>"
      ]
     },
     "execution_count": 31,
     "metadata": {},
     "output_type": "execute_result"
    }
   ],
   "source": [
    "CNN.fit(X_train, Y_train, epochs=10)"
   ]
  },
  {
   "cell_type": "code",
   "execution_count": 32,
   "id": "ed9fd2c4",
   "metadata": {},
   "outputs": [
    {
     "name": "stdout",
     "output_type": "stream",
     "text": [
      "313/313 [==============================] - 5s 16ms/step - loss: 0.9444 - accuracy: 0.6809\n"
     ]
    },
    {
     "data": {
      "text/plain": [
       "[0.9443970918655396, 0.680899977684021]"
      ]
     },
     "execution_count": 32,
     "metadata": {},
     "output_type": "execute_result"
    }
   ],
   "source": [
    "CNN.evaluate(X_test, Y_test)"
   ]
  },
  {
   "cell_type": "code",
   "execution_count": 33,
   "id": "575d95d9",
   "metadata": {},
   "outputs": [
    {
     "data": {
      "text/plain": [
       "array([[3],\n",
       "       [8],\n",
       "       [8],\n",
       "       [0],\n",
       "       [6]], dtype=uint8)"
      ]
     },
     "execution_count": 33,
     "metadata": {},
     "output_type": "execute_result"
    }
   ],
   "source": [
    "Y_test[:5]"
   ]
  },
  {
   "cell_type": "code",
   "execution_count": 34,
   "id": "3030ebe3",
   "metadata": {},
   "outputs": [],
   "source": [
    "Y_test = Y_test.reshape(-1,)"
   ]
  },
  {
   "cell_type": "code",
   "execution_count": 35,
   "id": "d4efaf58",
   "metadata": {},
   "outputs": [
    {
     "data": {
      "image/png": "[encoded data removed]",
      "text/plain": [
       "<Figure size 1080x144 with 1 Axes>"
      ]
     },
     "metadata": {
      "needs_background": "light"
     },
     "output_type": "display_data"
    }
   ],
   "source": [
    "plot_sample(X_test, Y_test, 1)"
   ]
  },
  {
   "cell_type": "code",
   "execution_count": 37,
   "id": "55afa0be",
   "metadata": {},
   "outputs": [
    {
     "name": "stdout",
     "output_type": "stream",
     "text": [
      "313/313 [==============================] - 5s 14ms/step\n"
     ]
    },
    {
     "data": {
      "text/plain": [
       "array([[1.2290347e-02, 2.6005798e-03, 6.3350461e-03, 6.2893927e-01,\n",
       "        5.0098955e-04, 2.6622114e-01, 7.2129801e-02, 3.7469799e-04,\n",
       "        1.0217360e-02, 3.9071040e-04],\n",
       "       [3.5538912e-02, 2.3270419e-01, 2.5273810e-05, 1.3302336e-04,\n",
       "        3.1343434e-06, 1.3948388e-06, 2.5833353e-06, 8.3329788e-08,\n",
       "        7.2898930e-01, 2.6021509e-03],\n",
       "       [4.8108134e-02, 6.6299719e-01, 2.5697642e-03, 1.7467512e-02,\n",
       "        6.4318255e-03, 2.6151096e-03, 1.5853078e-03, 2.6411330e-03,\n",
       "        1.7351949e-01, 8.2064450e-02],\n",
       "       [9.0349948e-01, 5.9284054e-04, 1.8548587e-02, 4.0317632e-04,\n",
       "        1.6058490e-02, 4.1976095e-05, 7.3184776e-05, 9.2506816e-05,\n",
       "        6.0554858e-02, 1.3494518e-04],\n",
       "       [1.6539216e-06, 6.0799543e-05, 3.5095562e-03, 2.5704786e-02,\n",
       "        1.7380758e-01, 1.2541941e-03, 7.9486847e-01, 3.4207915e-06,\n",
       "        7.8906637e-04, 4.7158886e-07]], dtype=float32)"
      ]
     },
     "execution_count": 37,
     "metadata": {},
     "output_type": "execute_result"
    }
   ],
   "source": [
    "Y_pred = CNN.predict(X_test)\n",
    "Y_pred[:5]"
   ]
  },
  {
   "cell_type": "code",
   "execution_count": 38,
   "id": "2fdc1080",
   "metadata": {},
   "outputs": [
    {
     "data": {
      "text/plain": [
       "[3, 8, 1, 0, 6]"
      ]
     },
     "execution_count": 38,
     "metadata": {},
     "output_type": "execute_result"
    }
   ],
   "source": [
    "Y_classes = [np.argmax(element) for element in Y_pred]\n",
    "Y_classes[:5]"
   ]
  },
  {
   "cell_type": "code",
   "execution_count": 39,
   "id": "5bacc68a",
   "metadata": {},
   "outputs": [
    {
     "data": {
      "text/plain": [
       "array([3, 8, 8, 0, 6], dtype=uint8)"
      ]
     },
     "execution_count": 39,
     "metadata": {},
     "output_type": "execute_result"
    }
   ],
   "source": [
    "Y_test[:5]"
   ]
  },
  {
   "cell_type": "code",
   "execution_count": 40,
   "id": "08800ef1",
   "metadata": {},
   "outputs": [
    {
     "data": {
      "image/png": "[encoded data removed]",
      "text/plain": [
       "<Figure size 1080x144 with 1 Axes>"
      ]
     },
     "metadata": {
      "needs_background": "light"
     },
     "output_type": "display_data"
    }
   ],
   "source": [
    "plot_sample(X_test, Y_test, 1)"
   ]
  },
  {
   "cell_type": "code",
   "execution_count": 42,
   "id": "2b60bb5d",
   "metadata": {},
   "outputs": [
    {
     "data": {
      "text/plain": [
       "'ship'"
      ]
     },
     "execution_count": 42,
     "metadata": {},
     "output_type": "execute_result"
    }
   ],
   "source": [
    "classes[Y_classes[1]]"
   ]
  },
  {
   "cell_type": "code",
   "execution_count": 44,
   "id": "0a7a40e6",
   "metadata": {},
   "outputs": [
    {
     "data": {
      "image/png": "[encoded data removed]",
      "text/plain": [
       "<Figure size 1080x144 with 1 Axes>"
      ]
     },
     "metadata": {
      "needs_background": "light"
     },
     "output_type": "display_data"
    }
   ],
   "source": [
    "plot_sample(X_test, Y_test, 3)"
   ]
  },
  {
   "cell_type": "code",
   "execution_count": 45,
   "id": "133666e2",
   "metadata": {},
   "outputs": [
    {
     "data": {
      "text/plain": [
       "'airplane'"
      ]
     },
     "execution_count": 45,
     "metadata": {},
     "output_type": "execute_result"
    }
   ],
   "source": [
    "classes[Y_classes[3]]"
   ]
  },
  {
   "cell_type": "code",
   "execution_count": 51,
   "id": "db8bfc75",
   "metadata": {},
   "outputs": [
    {
     "data": {
      "image/png": "[encoded data removed]",
      "text/plain": [
       "<Figure size 1080x144 with 1 Axes>"
      ]
     },
     "metadata": {
      "needs_background": "light"
     },
     "output_type": "display_data"
    }
   ],
   "source": [
    "plot_sample(X_test, Y_test, 12)"
   ]
  },
  {
   "cell_type": "code",
   "execution_count": 52,
   "id": "6c35080c",
   "metadata": {},
   "outputs": [
    {
     "data": {
      "text/plain": [
       "'bird'"
      ]
     },
     "execution_count": 52,
     "metadata": {},
     "output_type": "execute_result"
    }
   ],
   "source": [
    "classes[Y_classes[12]]"
   ]
  },
  {
   "cell_type": "code",
   "execution_count": null,
   "id": "3cb40d8f",
   "metadata": {},
   "outputs": [],
   "source": []
  }
 ],
 "metadata": {
  "kernelspec": {
   "display_name": "Python 3 (ipykernel)",
   "language": "python",
   "name": "python3"
  },
  "language_info": {
   "codemirror_mode": {
    "name": "ipython",
    "version": 3
   },
   "file_extension": ".py",
   "mimetype": "text/x-python",
   "name": "python",
   "nbconvert_exporter": "python",
   "pygments_lexer": "ipython3",
   "version": "3.9.12"
  }
 },
 "nbformat": 4,
 "nbformat_minor": 5
}
